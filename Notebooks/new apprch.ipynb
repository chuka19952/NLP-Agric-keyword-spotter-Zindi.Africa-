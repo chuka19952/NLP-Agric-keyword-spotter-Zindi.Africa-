{
 "cells": [
  {
   "cell_type": "code",
   "execution_count": 172,
   "metadata": {},
   "outputs": [],
   "source": [
    "import librosa\n",
    "import pandas as pd\n",
    "import numpy as np\n",
    "import matplotlib.pyplot as plt\n",
    "%matplotlib inline\n",
    "import os\n",
    "import csv# Preprocessing\n",
    "from sklearn.model_selection import train_test_split\n",
    "from sklearn.preprocessing import LabelEncoder, StandardScaler#Keras\n",
    "import keras\n",
    "import tensorflow as tf\n"
   ]
  },
  {
   "cell_type": "code",
   "execution_count": 378,
   "metadata": {},
   "outputs": [],
   "source": [
    "#defining data paths and neccessary variables\n",
    "SAVED_MODEL_PATH = \"model5_all_features.h5\"\n",
    "EPOCHS = 10\n",
    "BATCH_SIZE = 32\n",
    "PATIENCE = 5\n",
    "LEARNING_RATE = 0.0001"
   ]
  },
  {
   "cell_type": "code",
   "execution_count": 18,
   "metadata": {},
   "outputs": [
    {
     "data": {
      "text/plain": [
       "((1109, 2), (1017, 194))"
      ]
     },
     "execution_count": 18,
     "metadata": {},
     "output_type": "execute_result"
    }
   ],
   "source": [
    "df = pd.read_csv('Train.csv')\n",
    "sample_sub = pd.read_csv('SampleSubmission.csv')\n",
    "df.shape, sample_sub.shape"
   ]
  },
  {
   "cell_type": "code",
   "execution_count": 10,
   "metadata": {},
   "outputs": [],
   "source": [
    "#Creating a header for ourcsv file to store our data\n",
    "\n",
    "header = 'filename chroma_stft rmse spectral_centroid spectral_bandwidth rolloff zero_crossing_rate'\n",
    "for i in range(1, 21):  #its 1 to 21 because mfcc has 21 columns\n",
    "    header += f' mfcc{i}'\n",
    "header += ' label'\n",
    "header = header.split()"
   ]
  },
  {
   "cell_type": "code",
   "execution_count": 11,
   "metadata": {},
   "outputs": [],
   "source": [
    "file = open('data.csv', 'w', newline='')\n",
    "with file:\n",
    "    writer = csv.writer(file)\n",
    "    writer.writerow(header)"
   ]
  },
  {
   "cell_type": "code",
   "execution_count": 12,
   "metadata": {},
   "outputs": [],
   "source": [
    "for songname in df['fn']:\n",
    "        \n",
    "        y, sr = librosa.load(songname, mono=True)\n",
    "        chroma_stft = librosa.feature.chroma_stft(y=y, sr=sr)\n",
    "        rmse = librosa.feature.rms(y=y)\n",
    "        spec_cent = librosa.feature.spectral_centroid(y=y, sr=sr)\n",
    "        spec_bw = librosa.feature.spectral_bandwidth(y=y, sr=sr)\n",
    "        rolloff = librosa.feature.spectral_rolloff(y=y, sr=sr)\n",
    "        zcr = librosa.feature.zero_crossing_rate(y)\n",
    "        mfcc = librosa.feature.mfcc(y=y, sr=sr)\n",
    "        to_append = f'{songname} {np.mean(chroma_stft)} {np.mean(rmse)} {np.mean(spec_cent)} {np.mean(spec_bw)} {np.mean(rolloff)} {np.mean(zcr)}' \n",
    "        \n",
    "        for e in mfcc:\n",
    "            to_append += f' {np.mean(e)}'\n",
    "        \n",
    "        file = open('data.csv', 'a', newline='')\n",
    "        with file:\n",
    "            writer = csv.writer(file)\n",
    "            writer.writerow(to_append.split())"
   ]
  },
  {
   "cell_type": "code",
   "execution_count": 318,
   "metadata": {},
   "outputs": [],
   "source": [
    "data = pd.read_csv('data.csv')"
   ]
  },
  {
   "cell_type": "code",
   "execution_count": 319,
   "metadata": {},
   "outputs": [
    {
     "data": {
      "text/html": [
       "<div>\n",
       "<style scoped>\n",
       "    .dataframe tbody tr th:only-of-type {\n",
       "        vertical-align: middle;\n",
       "    }\n",
       "\n",
       "    .dataframe tbody tr th {\n",
       "        vertical-align: top;\n",
       "    }\n",
       "\n",
       "    .dataframe thead th {\n",
       "        text-align: right;\n",
       "    }\n",
       "</style>\n",
       "<table border=\"1\" class=\"dataframe\">\n",
       "  <thead>\n",
       "    <tr style=\"text-align: right;\">\n",
       "      <th></th>\n",
       "      <th>filename</th>\n",
       "      <th>chroma_stft</th>\n",
       "      <th>rmse</th>\n",
       "      <th>spectral_centroid</th>\n",
       "      <th>spectral_bandwidth</th>\n",
       "      <th>rolloff</th>\n",
       "      <th>zero_crossing_rate</th>\n",
       "      <th>mfcc1</th>\n",
       "      <th>mfcc2</th>\n",
       "      <th>mfcc3</th>\n",
       "      <th>...</th>\n",
       "      <th>mfcc12</th>\n",
       "      <th>mfcc13</th>\n",
       "      <th>mfcc14</th>\n",
       "      <th>mfcc15</th>\n",
       "      <th>mfcc16</th>\n",
       "      <th>mfcc17</th>\n",
       "      <th>mfcc18</th>\n",
       "      <th>mfcc19</th>\n",
       "      <th>mfcc20</th>\n",
       "      <th>label</th>\n",
       "    </tr>\n",
       "  </thead>\n",
       "  <tbody>\n",
       "    <tr>\n",
       "      <th>0</th>\n",
       "      <td>audio_files/IV38R7F.wav</td>\n",
       "      <td>0.449615</td>\n",
       "      <td>0.036331</td>\n",
       "      <td>2464.608280</td>\n",
       "      <td>2052.566381</td>\n",
       "      <td>4764.932193</td>\n",
       "      <td>0.163376</td>\n",
       "      <td>-475.988342</td>\n",
       "      <td>42.850571</td>\n",
       "      <td>-5.496119</td>\n",
       "      <td>...</td>\n",
       "      <td>-4.184888</td>\n",
       "      <td>1.200247</td>\n",
       "      <td>-7.129832</td>\n",
       "      <td>0.902059</td>\n",
       "      <td>0.068046</td>\n",
       "      <td>-1.860884</td>\n",
       "      <td>-1.458506</td>\n",
       "      <td>-0.831166</td>\n",
       "      <td>-1.691265</td>\n",
       "      <td>NaN</td>\n",
       "    </tr>\n",
       "    <tr>\n",
       "      <th>1</th>\n",
       "      <td>audio_files/KM4SKWT.wav</td>\n",
       "      <td>0.562000</td>\n",
       "      <td>0.194779</td>\n",
       "      <td>1300.411033</td>\n",
       "      <td>1977.379357</td>\n",
       "      <td>2522.873942</td>\n",
       "      <td>0.040713</td>\n",
       "      <td>-111.754181</td>\n",
       "      <td>137.786835</td>\n",
       "      <td>-5.629675</td>\n",
       "      <td>...</td>\n",
       "      <td>5.427469</td>\n",
       "      <td>2.849771</td>\n",
       "      <td>1.156728</td>\n",
       "      <td>0.149515</td>\n",
       "      <td>4.400822</td>\n",
       "      <td>-2.614339</td>\n",
       "      <td>3.924227</td>\n",
       "      <td>-3.614870</td>\n",
       "      <td>4.666934</td>\n",
       "      <td>NaN</td>\n",
       "    </tr>\n",
       "    <tr>\n",
       "      <th>2</th>\n",
       "      <td>audio_files/F5POSU9.wav</td>\n",
       "      <td>0.540322</td>\n",
       "      <td>0.281683</td>\n",
       "      <td>1943.406614</td>\n",
       "      <td>2289.002359</td>\n",
       "      <td>3914.955648</td>\n",
       "      <td>0.061447</td>\n",
       "      <td>-47.960114</td>\n",
       "      <td>97.102974</td>\n",
       "      <td>-16.262344</td>\n",
       "      <td>...</td>\n",
       "      <td>1.315997</td>\n",
       "      <td>-0.334233</td>\n",
       "      <td>7.317841</td>\n",
       "      <td>2.578547</td>\n",
       "      <td>8.096319</td>\n",
       "      <td>0.717559</td>\n",
       "      <td>6.615470</td>\n",
       "      <td>-1.229078</td>\n",
       "      <td>5.105130</td>\n",
       "      <td>NaN</td>\n",
       "    </tr>\n",
       "    <tr>\n",
       "      <th>3</th>\n",
       "      <td>audio_files/MMVDXG2.wav</td>\n",
       "      <td>0.320626</td>\n",
       "      <td>0.014163</td>\n",
       "      <td>2002.818447</td>\n",
       "      <td>1816.961550</td>\n",
       "      <td>4289.779721</td>\n",
       "      <td>0.135622</td>\n",
       "      <td>-453.759094</td>\n",
       "      <td>102.125031</td>\n",
       "      <td>-2.364913</td>\n",
       "      <td>...</td>\n",
       "      <td>-0.966605</td>\n",
       "      <td>-13.227746</td>\n",
       "      <td>5.627367</td>\n",
       "      <td>-9.027304</td>\n",
       "      <td>-6.209201</td>\n",
       "      <td>2.719011</td>\n",
       "      <td>-7.601274</td>\n",
       "      <td>-0.474875</td>\n",
       "      <td>-2.802763</td>\n",
       "      <td>NaN</td>\n",
       "    </tr>\n",
       "    <tr>\n",
       "      <th>4</th>\n",
       "      <td>audio_files/9TVM96F.wav</td>\n",
       "      <td>0.435339</td>\n",
       "      <td>0.041622</td>\n",
       "      <td>1621.551184</td>\n",
       "      <td>1413.281627</td>\n",
       "      <td>2976.422063</td>\n",
       "      <td>0.101683</td>\n",
       "      <td>-368.779999</td>\n",
       "      <td>119.367859</td>\n",
       "      <td>-41.034409</td>\n",
       "      <td>...</td>\n",
       "      <td>-10.228896</td>\n",
       "      <td>-3.070230</td>\n",
       "      <td>-13.005276</td>\n",
       "      <td>-6.210487</td>\n",
       "      <td>-0.560715</td>\n",
       "      <td>-7.880075</td>\n",
       "      <td>-5.454712</td>\n",
       "      <td>-1.018409</td>\n",
       "      <td>-5.983365</td>\n",
       "      <td>NaN</td>\n",
       "    </tr>\n",
       "  </tbody>\n",
       "</table>\n",
       "<p>5 rows × 28 columns</p>\n",
       "</div>"
      ],
      "text/plain": [
       "                  filename  chroma_stft      rmse  spectral_centroid  \\\n",
       "0  audio_files/IV38R7F.wav     0.449615  0.036331        2464.608280   \n",
       "1  audio_files/KM4SKWT.wav     0.562000  0.194779        1300.411033   \n",
       "2  audio_files/F5POSU9.wav     0.540322  0.281683        1943.406614   \n",
       "3  audio_files/MMVDXG2.wav     0.320626  0.014163        2002.818447   \n",
       "4  audio_files/9TVM96F.wav     0.435339  0.041622        1621.551184   \n",
       "\n",
       "   spectral_bandwidth      rolloff  zero_crossing_rate       mfcc1  \\\n",
       "0         2052.566381  4764.932193            0.163376 -475.988342   \n",
       "1         1977.379357  2522.873942            0.040713 -111.754181   \n",
       "2         2289.002359  3914.955648            0.061447  -47.960114   \n",
       "3         1816.961550  4289.779721            0.135622 -453.759094   \n",
       "4         1413.281627  2976.422063            0.101683 -368.779999   \n",
       "\n",
       "        mfcc2      mfcc3  ...     mfcc12     mfcc13     mfcc14    mfcc15  \\\n",
       "0   42.850571  -5.496119  ...  -4.184888   1.200247  -7.129832  0.902059   \n",
       "1  137.786835  -5.629675  ...   5.427469   2.849771   1.156728  0.149515   \n",
       "2   97.102974 -16.262344  ...   1.315997  -0.334233   7.317841  2.578547   \n",
       "3  102.125031  -2.364913  ...  -0.966605 -13.227746   5.627367 -9.027304   \n",
       "4  119.367859 -41.034409  ... -10.228896  -3.070230 -13.005276 -6.210487   \n",
       "\n",
       "     mfcc16    mfcc17    mfcc18    mfcc19    mfcc20  label  \n",
       "0  0.068046 -1.860884 -1.458506 -0.831166 -1.691265    NaN  \n",
       "1  4.400822 -2.614339  3.924227 -3.614870  4.666934    NaN  \n",
       "2  8.096319  0.717559  6.615470 -1.229078  5.105130    NaN  \n",
       "3 -6.209201  2.719011 -7.601274 -0.474875 -2.802763    NaN  \n",
       "4 -0.560715 -7.880075 -5.454712 -1.018409 -5.983365    NaN  \n",
       "\n",
       "[5 rows x 28 columns]"
      ]
     },
     "execution_count": 319,
     "metadata": {},
     "output_type": "execute_result"
    }
   ],
   "source": [
    "data.head()"
   ]
  },
  {
   "cell_type": "markdown",
   "metadata": {},
   "source": [
    "We’ve calculated all the features using librosa package and has created a dataset with the data.csv file name and has inserted all the feature values of given music in given headers."
   ]
  },
  {
   "cell_type": "code",
   "execution_count": 320,
   "metadata": {},
   "outputs": [],
   "source": [
    "#replacing the empty label column with the original label column in train.csv\n",
    "data['label']=df['label']"
   ]
  },
  {
   "cell_type": "markdown",
   "metadata": {},
   "source": [
    "## Preprocessing Dataset\n"
   ]
  },
  {
   "cell_type": "code",
   "execution_count": 321,
   "metadata": {},
   "outputs": [],
   "source": [
    "# Dropping unneccesary columns\n",
    "data = data.drop(['filename'],axis=1)\n"
   ]
  },
  {
   "cell_type": "code",
   "execution_count": 322,
   "metadata": {},
   "outputs": [
    {
     "name": "stdout",
     "output_type": "stream",
     "text": [
      "[ 10  16 141 ...  87 129 139]\n"
     ]
    }
   ],
   "source": [
    "#Now we encode label column\n",
    "\n",
    "label_list = data.iloc[:, -1] #selecting all rows in the last column(-1)\n",
    "encoder = LabelEncoder()\n",
    "y = encoder.fit_transform(label_list)\n",
    "print(y)"
   ]
  },
  {
   "cell_type": "code",
   "execution_count": 323,
   "metadata": {},
   "outputs": [],
   "source": [
    "#Normalising the dataset\n",
    "scaler = StandardScaler()\n",
    "X = scaler.fit_transform(np.array(data.iloc[:, :-1], dtype = float)) #selecting all rows in all columns except the last column(i.e -1)\n",
    "\n",
    "#In this x is calculated by removing the mean and dividing by the variance."
   ]
  },
  {
   "cell_type": "code",
   "execution_count": null,
   "metadata": {},
   "outputs": [],
   "source": []
  },
  {
   "cell_type": "code",
   "execution_count": null,
   "metadata": {},
   "outputs": [],
   "source": []
  },
  {
   "cell_type": "markdown",
   "metadata": {},
   "source": [
    "## Model creating, training and testing\n",
    "### Creating a Model"
   ]
  },
  {
   "cell_type": "code",
   "execution_count": null,
   "metadata": {},
   "outputs": [],
   "source": []
  },
  {
   "cell_type": "code",
   "execution_count": null,
   "metadata": {},
   "outputs": [],
   "source": []
  },
  {
   "cell_type": "code",
   "execution_count": 324,
   "metadata": {},
   "outputs": [],
   "source": [
    "# # create train, validation, test split\n",
    "# X_train, X_test, y_train, y_test = train_test_split(X, y, test_size=0.2)\n",
    "# X_train, X_validation, y_train, y_validation = train_test_split(X_train, y_train, test_size=0.2)\n",
    "   \n",
    "# # add an axis to nd array\n",
    "# # X_train = X_train[..., np.newaxis]\n",
    "# # X_test = X_test[..., np.newaxis]\n",
    "# # X_validation = X_validation[..., np.newaxis]\n"
   ]
  },
  {
   "cell_type": "code",
   "execution_count": 379,
   "metadata": {},
   "outputs": [],
   "source": [
    "def prepare_dataset(X,y, test_size=0.2, validation_size=0.2):\n",
    "    \"\"\"Creates train, validation and test sets.\n",
    "\n",
    "    :param data_path (str): Path to json file containing data\n",
    "    :param test_size (flaot): Percentage of dataset used for testing\n",
    "    :param validation_size (float): Percentage of train set used for cross-validation\n",
    "\n",
    "    :return X_train (ndarray): Inputs for the train set\n",
    "    :return y_train (ndarray): Targets for the train set\n",
    "    :return X_validation (ndarray): Inputs for the validation set\n",
    "    :return y_validation (ndarray): Targets for the validation set\n",
    "    :return X_test (ndarray): Inputs for the test set\n",
    "    :return X_test (ndarray): Targets for the test set\n",
    "    \"\"\"\n",
    "\n",
    "    # create train, validation, test split\n",
    "    X_train, X_test, y_train, y_test = train_test_split(X, y, test_size=test_size)\n",
    "    X_train, X_validation, y_train, y_validation = train_test_split(X_train, y_train, test_size=validation_size)\n",
    "\n",
    "#     # add an axis to nd array\n",
    "#     X_train = X_train[..., np.newaxis]\n",
    "#     X_test = X_test[..., np.newaxis]\n",
    "#     X_validation = X_validation[..., np.newaxis]\n",
    "\n",
    "    return X_train, y_train, X_validation, y_validation, X_test, y_test\n",
    "\n",
    "    "
   ]
  },
  {
   "cell_type": "code",
   "execution_count": null,
   "metadata": {},
   "outputs": [],
   "source": []
  },
  {
   "cell_type": "code",
   "execution_count": 380,
   "metadata": {},
   "outputs": [],
   "source": [
    "def build_model(input_shape, loss=\"sparse_categorical_crossentropy\", learning_rate=0.0001):\n",
    "    \"\"\"Build neural network using keras.\n",
    "\n",
    "    :param input_shape (tuple): Shape of array representing a sample train. E.g.: (44, 13, 1)\n",
    "    :param loss (str): Loss function to use\n",
    "    :param learning_rate (float):\n",
    "\n",
    "    :return model: TensorFlow model\n",
    "    \"\"\"\n",
    "    model = tf.keras.Sequential([\n",
    "    tf.keras.layers.Dense(254, activation='relu', input_shape= input_shape), \n",
    "    tf.keras.layers.Dense(120, activation='relu'),\n",
    "    tf.keras.layers.Dense(193, activation='softmax')])\n",
    "    \n",
    "    # define optimiser\n",
    "    optimiser = tf.optimizers.Adam(learning_rate=learning_rate)\n",
    "\n",
    "    # compile model\n",
    "    model.compile(optimizer=optimiser, loss=loss, metrics=['accuracy'])\n",
    "\n",
    "    # print model parameters on console\n",
    "    model.summary()\n",
    "    \n",
    "\n",
    "    return model\n"
   ]
  },
  {
   "cell_type": "code",
   "execution_count": null,
   "metadata": {},
   "outputs": [],
   "source": []
  },
  {
   "cell_type": "code",
   "execution_count": 381,
   "metadata": {},
   "outputs": [],
   "source": [
    "def train(model, epochs, batch_size, patience, X_train, y_train, X_validation, y_validation):\n",
    "    \"\"\"Trains model\n",
    "\n",
    "    :param epochs (int): Num training epochs\n",
    "    :param batch_size (int): Samples per batch\n",
    "    :param patience (int): Num epochs to wait before early stop, if there isn't an improvement on accuracy\n",
    "    :param X_train (ndarray): Inputs for the train set\n",
    "    :param y_train (ndarray): Targets for the train set\n",
    "    :param X_validation (ndarray): Inputs for the validation set\n",
    "    :param y_validation (ndarray): Targets for the validation set\n",
    "\n",
    "    :return history: Training history\n",
    "    \"\"\"\n",
    "\n",
    "    earlystop_callback = tf.keras.callbacks.EarlyStopping(monitor=\"accuracy\", min_delta=0.001, patience=patience)\n",
    "\n",
    "    # train model\n",
    "    history = model.fit(X_train,\n",
    "                        y_train,\n",
    "                        epochs=epochs,\n",
    "                        batch_size=batch_size,\n",
    "                        validation_data=(X_validation, y_validation),\n",
    "                        callbacks=[earlystop_callback])\n",
    "    return history\n"
   ]
  },
  {
   "cell_type": "code",
   "execution_count": null,
   "metadata": {},
   "outputs": [],
   "source": []
  },
  {
   "cell_type": "code",
   "execution_count": 382,
   "metadata": {},
   "outputs": [],
   "source": [
    "def plot_history(history):\n",
    "    \"\"\"Plots accuracy/loss for training/validation set as a function of the epochs\n",
    "\n",
    "    :param history: Training history of model\n",
    "    :return:\n",
    "    \"\"\"\n",
    "\n",
    "    fig, axs = plt.subplots(2)\n",
    "\n",
    "    # create accuracy subplot\n",
    "    axs[0].plot(history.history[\"accuracy\"], label=\"accuracy\")\n",
    "    axs[0].plot(history.history['val_accuracy'], label=\"val_accuracy\")\n",
    "    axs[0].set_ylabel(\"Accuracy\")\n",
    "    axs[0].legend(loc=\"lower right\")\n",
    "    axs[0].set_title(\"Accuracy evaluation\")\n",
    "\n",
    "    # create loss subplot\n",
    "    axs[1].plot(history.history[\"loss\"], label=\"loss\")\n",
    "    axs[1].plot(history.history['val_loss'], label=\"val_loss\")\n",
    "    axs[1].set_xlabel(\"Epoch\")\n",
    "    axs[1].set_ylabel(\"Loss\")\n",
    "    axs[1].legend(loc=\"upper right\")\n",
    "    axs[1].set_title(\"Loss evaluation\")\n",
    "\n",
    "    plt.show()\n",
    "\n"
   ]
  },
  {
   "cell_type": "code",
   "execution_count": null,
   "metadata": {},
   "outputs": [],
   "source": []
  },
  {
   "cell_type": "code",
   "execution_count": 383,
   "metadata": {},
   "outputs": [
    {
     "name": "stdout",
     "output_type": "stream",
     "text": [
      "Model: \"sequential_59\"\n",
      "_________________________________________________________________\n",
      "Layer (type)                 Output Shape              Param #   \n",
      "=================================================================\n",
      "dense_59 (Dense)             (None, 254)               6858      \n",
      "_________________________________________________________________\n",
      "dense_60 (Dense)             (None, 120)               30600     \n",
      "_________________________________________________________________\n",
      "dense_61 (Dense)             (None, 193)               23353     \n",
      "=================================================================\n",
      "Total params: 60,811\n",
      "Trainable params: 60,811\n",
      "Non-trainable params: 0\n",
      "_________________________________________________________________\n",
      "Train on 709 samples, validate on 178 samples\n",
      "Epoch 1/10\n",
      "WARNING:tensorflow:Entity <function Function._initialize_uninitialized_variables.<locals>.initialize_variables at 0x7f681a5aaf28> could not be transformed and will be executed as-is. Please report this to the AutoGraph team. When filing the bug, set the verbosity to 10 (on Linux, `export AUTOGRAPH_VERBOSITY=10`) and attach the full output. Cause: module 'gast' has no attribute 'Num'\n",
      "WARNING: Entity <function Function._initialize_uninitialized_variables.<locals>.initialize_variables at 0x7f681a5aaf28> could not be transformed and will be executed as-is. Please report this to the AutoGraph team. When filing the bug, set the verbosity to 10 (on Linux, `export AUTOGRAPH_VERBOSITY=10`) and attach the full output. Cause: module 'gast' has no attribute 'Num'\n",
      "709/709 [==============================] - 1s 2ms/sample - loss: 5.2732 - accuracy: 0.0085 - val_loss: 5.2817 - val_accuracy: 0.0000e+00\n",
      "Epoch 2/10\n",
      "709/709 [==============================] - 1s 734us/sample - loss: 5.1838 - accuracy: 0.0197 - val_loss: 5.2655 - val_accuracy: 0.0056\n",
      "Epoch 3/10\n",
      "709/709 [==============================] - 1s 762us/sample - loss: 5.1034 - accuracy: 0.0310 - val_loss: 5.2541 - val_accuracy: 0.0056\n",
      "Epoch 4/10\n",
      "709/709 [==============================] - 1s 760us/sample - loss: 5.0095 - accuracy: 0.0395 - val_loss: 5.2474 - val_accuracy: 0.0056\n",
      "Epoch 5/10\n",
      "709/709 [==============================] - 1s 741us/sample - loss: 4.8998 - accuracy: 0.0508 - val_loss: 5.2445 - val_accuracy: 0.0056\n",
      "Epoch 6/10\n",
      "709/709 [==============================] - 1s 728us/sample - loss: 4.7786 - accuracy: 0.0536 - val_loss: 5.2529 - val_accuracy: 0.0056\n",
      "Epoch 7/10\n",
      "709/709 [==============================] - 1s 734us/sample - loss: 4.6559 - accuracy: 0.0550 - val_loss: 5.2673 - val_accuracy: 0.0000e+00\n",
      "Epoch 8/10\n",
      "709/709 [==============================] - 1s 750us/sample - loss: 4.5344 - accuracy: 0.0677 - val_loss: 5.2835 - val_accuracy: 0.0000e+00\n",
      "Epoch 9/10\n",
      "709/709 [==============================] - 1s 784us/sample - loss: 4.4212 - accuracy: 0.0677 - val_loss: 5.3082 - val_accuracy: 0.0000e+00\n",
      "Epoch 10/10\n",
      "709/709 [==============================] - 1s 741us/sample - loss: 4.3124 - accuracy: 0.0860 - val_loss: 5.3298 - val_accuracy: 0.0000e+00\n"
     ]
    },
    {
     "data": {
      "image/png": "[encoded data removed]",
      "text/plain": [
       "<Figure size 432x288 with 2 Axes>"
      ]
     },
     "metadata": {
      "needs_background": "light"
     },
     "output_type": "display_data"
    },
    {
     "name": "stdout",
     "output_type": "stream",
     "text": [
      "222/1 [====================================================================================================================================================================================================================================================================================================================================================================================================================================================================================================================================================================================================================================================================================================================================================================================================================================================================================================================================================================================================================================================================================================================================================================================================================================================================================================================================================================================================================================================================================================================================================================================================================================================================================================================================================================================================================================================================================================================================================================================================================================================================================================================================================================================================================================================================================================================================================================================================================================================================================================================================================================================================================================================================================================================================================================================================================================================================================================================================================================================================================================================================================================================================================================================================================================================================================================================================================================================================================================================================================================================================================================================================================================================================================================================================================================================================================================================================================================================================================================================================================================================================================================================================================================================================================================================================================================================================================================================================================================================================================================================================================================================================================================================================================================================================================================================================================================================================================================================================================================================================================================================================================================================================================================================================================================================================================================================================================================================================================================================================================================================================================================================================================================================================================================================================================================================================================================================================================================================================================================================================================================================================================================================================================================================================================================================================================================================================================================================================================================================================================================================================================================================================================================================================================================================================================================================================================================================================================================================================] - 0s 55us/sample - loss: 5.3749 - accuracy: 0.0090\n",
      "\n",
      "Test loss: 5.47167495349506, test accuracy: 0.9009009227156639\n"
     ]
    }
   ],
   "source": [
    "def main():\n",
    "    # generate train, validation and test sets\n",
    "    X_train, y_train, X_validation, y_validation, X_test, y_test = prepare_dataset(X, y)\n",
    "\n",
    "    # create network\n",
    "    input_shape = (26,)\n",
    "    model = build_model(input_shape, learning_rate=LEARNING_RATE)\n",
    "\n",
    "    # train network\n",
    "    history = train(model, EPOCHS, BATCH_SIZE, PATIENCE, X_train, y_train, X_validation, y_validation)\n",
    "\n",
    "    # plot accuracy/loss for training/validation set as a function of the epochs\n",
    "    plot_history(history)\n",
    "\n",
    "    # evaluate network on test set\n",
    "    test_loss, test_acc = model.evaluate(X_test, y_test)\n",
    "    print(\"\\nTest loss: {}, test accuracy: {}\".format(test_loss, 100*test_acc))\n",
    "\n",
    "    # save model\n",
    "    model.save(SAVED_MODEL_PATH)\n",
    "\n",
    "\n",
    "if __name__ == \"__main__\":\n",
    "    main()\n"
   ]
  },
  {
   "cell_type": "code",
   "execution_count": 370,
   "metadata": {},
   "outputs": [],
   "source": [
    "# import tensorflow as tf\n",
    "\n",
    "\n",
    "# model = tf.keras.Sequential([\n",
    "#     tf.keras.layers.Dense(254, activation='relu', input_shape=(26,)), \n",
    "#     tf.keras.layers.Dense(120, activation='relu'),\n",
    "#     tf.keras.layers.Dense(194, activation='softmax')])\n",
    "# model.compile(optimizer='adam', loss='sparse_categorical_crossentropy', metrics=['accuracy'])\n",
    "# hist = model.fit(X_train, y_train, batch_size=32, epochs=100, validation_data=(X_validation, y_validation))\n"
   ]
  },
  {
   "cell_type": "code",
   "execution_count": null,
   "metadata": {},
   "outputs": [],
   "source": []
  },
  {
   "cell_type": "markdown",
   "metadata": {},
   "source": [
    "## PROCESING THE TEST SET"
   ]
  },
  {
   "cell_type": "code",
   "execution_count": 245,
   "metadata": {},
   "outputs": [],
   "source": [
    "#Creating a header for ourcsv file to store our data\n",
    "\n",
    "header = 'filename chroma_stft rmse spectral_centroid spectral_bandwidth rolloff zero_crossing_rate'\n",
    "for i in range(1, 21):  #its 1 to 21 because mfcc has 21 columns\n",
    "    header += f' mfcc{i}'\n",
    "header += ' label'\n",
    "header = header.split()"
   ]
  },
  {
   "cell_type": "code",
   "execution_count": 246,
   "metadata": {},
   "outputs": [],
   "source": [
    "file = open('test_data.csv', 'w', newline='')\n",
    "with file:\n",
    "    writer = csv.writer(file)\n",
    "    writer.writerow(header)"
   ]
  },
  {
   "cell_type": "code",
   "execution_count": 247,
   "metadata": {},
   "outputs": [],
   "source": [
    "for songname in sample_sub['fn']:\n",
    "        \n",
    "        y, sr = librosa.load(songname, mono=True)\n",
    "        chroma_stft = librosa.feature.chroma_stft(y=y, sr=sr)\n",
    "        rmse = librosa.feature.rms(y=y)\n",
    "        spec_cent = librosa.feature.spectral_centroid(y=y, sr=sr)\n",
    "        spec_bw = librosa.feature.spectral_bandwidth(y=y, sr=sr)\n",
    "        rolloff = librosa.feature.spectral_rolloff(y=y, sr=sr)\n",
    "        zcr = librosa.feature.zero_crossing_rate(y)\n",
    "        mfcc = librosa.feature.mfcc(y=y, sr=sr)\n",
    "        to_append = f'{songname} {np.mean(chroma_stft)} {np.mean(rmse)} {np.mean(spec_cent)} {np.mean(spec_bw)} {np.mean(rolloff)} {np.mean(zcr)}' \n",
    "        \n",
    "        for e in mfcc:\n",
    "            to_append += f' {np.mean(e)}'\n",
    "        \n",
    "        file = open('test_data.csv', 'a', newline='')\n",
    "        with file:\n",
    "            writer = csv.writer(file)\n",
    "            writer.writerow(to_append.split())"
   ]
  },
  {
   "cell_type": "code",
   "execution_count": null,
   "metadata": {},
   "outputs": [],
   "source": []
  },
  {
   "cell_type": "code",
   "execution_count": 356,
   "metadata": {},
   "outputs": [
    {
     "data": {
      "text/html": [
       "<div>\n",
       "<style scoped>\n",
       "    .dataframe tbody tr th:only-of-type {\n",
       "        vertical-align: middle;\n",
       "    }\n",
       "\n",
       "    .dataframe tbody tr th {\n",
       "        vertical-align: top;\n",
       "    }\n",
       "\n",
       "    .dataframe thead th {\n",
       "        text-align: right;\n",
       "    }\n",
       "</style>\n",
       "<table border=\"1\" class=\"dataframe\">\n",
       "  <thead>\n",
       "    <tr style=\"text-align: right;\">\n",
       "      <th></th>\n",
       "      <th>filename</th>\n",
       "      <th>chroma_stft</th>\n",
       "      <th>rmse</th>\n",
       "      <th>spectral_centroid</th>\n",
       "      <th>spectral_bandwidth</th>\n",
       "      <th>rolloff</th>\n",
       "      <th>zero_crossing_rate</th>\n",
       "      <th>mfcc1</th>\n",
       "      <th>mfcc2</th>\n",
       "      <th>mfcc3</th>\n",
       "      <th>...</th>\n",
       "      <th>mfcc12</th>\n",
       "      <th>mfcc13</th>\n",
       "      <th>mfcc14</th>\n",
       "      <th>mfcc15</th>\n",
       "      <th>mfcc16</th>\n",
       "      <th>mfcc17</th>\n",
       "      <th>mfcc18</th>\n",
       "      <th>mfcc19</th>\n",
       "      <th>mfcc20</th>\n",
       "      <th>label</th>\n",
       "    </tr>\n",
       "  </thead>\n",
       "  <tbody>\n",
       "    <tr>\n",
       "      <th>0</th>\n",
       "      <td>audio_files/00118N3.wav</td>\n",
       "      <td>0.374535</td>\n",
       "      <td>0.054125</td>\n",
       "      <td>1892.489208</td>\n",
       "      <td>2330.542827</td>\n",
       "      <td>3776.706521</td>\n",
       "      <td>0.085660</td>\n",
       "      <td>-264.064209</td>\n",
       "      <td>115.357208</td>\n",
       "      <td>35.642284</td>\n",
       "      <td>...</td>\n",
       "      <td>2.177417</td>\n",
       "      <td>-7.710699</td>\n",
       "      <td>-9.355255</td>\n",
       "      <td>-10.159339</td>\n",
       "      <td>-4.187470</td>\n",
       "      <td>-9.133896</td>\n",
       "      <td>-7.352005</td>\n",
       "      <td>-12.253077</td>\n",
       "      <td>-1.595746</td>\n",
       "      <td>NaN</td>\n",
       "    </tr>\n",
       "    <tr>\n",
       "      <th>1</th>\n",
       "      <td>audio_files/00P0NMV.wav</td>\n",
       "      <td>0.463548</td>\n",
       "      <td>0.061802</td>\n",
       "      <td>2407.378278</td>\n",
       "      <td>1962.933392</td>\n",
       "      <td>4670.064214</td>\n",
       "      <td>0.163068</td>\n",
       "      <td>-361.880981</td>\n",
       "      <td>61.932018</td>\n",
       "      <td>-25.703701</td>\n",
       "      <td>...</td>\n",
       "      <td>-12.089739</td>\n",
       "      <td>-1.225272</td>\n",
       "      <td>-5.811265</td>\n",
       "      <td>-0.690165</td>\n",
       "      <td>-3.418268</td>\n",
       "      <td>-4.245774</td>\n",
       "      <td>-2.594992</td>\n",
       "      <td>-3.855736</td>\n",
       "      <td>-1.413907</td>\n",
       "      <td>NaN</td>\n",
       "    </tr>\n",
       "    <tr>\n",
       "      <th>2</th>\n",
       "      <td>audio_files/01QEEZI.wav</td>\n",
       "      <td>0.315547</td>\n",
       "      <td>0.049430</td>\n",
       "      <td>2058.896363</td>\n",
       "      <td>1576.299727</td>\n",
       "      <td>3424.693442</td>\n",
       "      <td>0.146756</td>\n",
       "      <td>-430.161682</td>\n",
       "      <td>79.694214</td>\n",
       "      <td>10.646952</td>\n",
       "      <td>...</td>\n",
       "      <td>-9.717668</td>\n",
       "      <td>4.265187</td>\n",
       "      <td>-8.468893</td>\n",
       "      <td>-2.142427</td>\n",
       "      <td>-6.465826</td>\n",
       "      <td>0.842213</td>\n",
       "      <td>-0.774048</td>\n",
       "      <td>1.728260</td>\n",
       "      <td>-0.274254</td>\n",
       "      <td>NaN</td>\n",
       "    </tr>\n",
       "    <tr>\n",
       "      <th>3</th>\n",
       "      <td>audio_files/037YAED.wav</td>\n",
       "      <td>0.473087</td>\n",
       "      <td>0.046160</td>\n",
       "      <td>3038.670423</td>\n",
       "      <td>1948.492782</td>\n",
       "      <td>4966.856759</td>\n",
       "      <td>0.244813</td>\n",
       "      <td>-472.820496</td>\n",
       "      <td>43.716751</td>\n",
       "      <td>0.029212</td>\n",
       "      <td>...</td>\n",
       "      <td>-5.924993</td>\n",
       "      <td>-1.932423</td>\n",
       "      <td>-3.049218</td>\n",
       "      <td>-4.720918</td>\n",
       "      <td>-4.062554</td>\n",
       "      <td>1.778725</td>\n",
       "      <td>-5.016870</td>\n",
       "      <td>-1.723710</td>\n",
       "      <td>-0.590242</td>\n",
       "      <td>NaN</td>\n",
       "    </tr>\n",
       "    <tr>\n",
       "      <th>4</th>\n",
       "      <td>audio_files/0382N0Y.wav</td>\n",
       "      <td>0.356902</td>\n",
       "      <td>0.036991</td>\n",
       "      <td>1896.187861</td>\n",
       "      <td>1836.684246</td>\n",
       "      <td>3919.042969</td>\n",
       "      <td>0.105754</td>\n",
       "      <td>-406.552704</td>\n",
       "      <td>97.861374</td>\n",
       "      <td>-8.950704</td>\n",
       "      <td>...</td>\n",
       "      <td>-11.119925</td>\n",
       "      <td>1.177802</td>\n",
       "      <td>-11.956388</td>\n",
       "      <td>4.176840</td>\n",
       "      <td>-0.422893</td>\n",
       "      <td>-1.527469</td>\n",
       "      <td>-9.776343</td>\n",
       "      <td>-7.352884</td>\n",
       "      <td>-0.174162</td>\n",
       "      <td>NaN</td>\n",
       "    </tr>\n",
       "  </tbody>\n",
       "</table>\n",
       "<p>5 rows × 28 columns</p>\n",
       "</div>"
      ],
      "text/plain": [
       "                  filename  chroma_stft      rmse  spectral_centroid  \\\n",
       "0  audio_files/00118N3.wav     0.374535  0.054125        1892.489208   \n",
       "1  audio_files/00P0NMV.wav     0.463548  0.061802        2407.378278   \n",
       "2  audio_files/01QEEZI.wav     0.315547  0.049430        2058.896363   \n",
       "3  audio_files/037YAED.wav     0.473087  0.046160        3038.670423   \n",
       "4  audio_files/0382N0Y.wav     0.356902  0.036991        1896.187861   \n",
       "\n",
       "   spectral_bandwidth      rolloff  zero_crossing_rate       mfcc1  \\\n",
       "0         2330.542827  3776.706521            0.085660 -264.064209   \n",
       "1         1962.933392  4670.064214            0.163068 -361.880981   \n",
       "2         1576.299727  3424.693442            0.146756 -430.161682   \n",
       "3         1948.492782  4966.856759            0.244813 -472.820496   \n",
       "4         1836.684246  3919.042969            0.105754 -406.552704   \n",
       "\n",
       "        mfcc2      mfcc3  ...     mfcc12    mfcc13     mfcc14     mfcc15  \\\n",
       "0  115.357208  35.642284  ...   2.177417 -7.710699  -9.355255 -10.159339   \n",
       "1   61.932018 -25.703701  ... -12.089739 -1.225272  -5.811265  -0.690165   \n",
       "2   79.694214  10.646952  ...  -9.717668  4.265187  -8.468893  -2.142427   \n",
       "3   43.716751   0.029212  ...  -5.924993 -1.932423  -3.049218  -4.720918   \n",
       "4   97.861374  -8.950704  ... -11.119925  1.177802 -11.956388   4.176840   \n",
       "\n",
       "     mfcc16    mfcc17    mfcc18     mfcc19    mfcc20  label  \n",
       "0 -4.187470 -9.133896 -7.352005 -12.253077 -1.595746    NaN  \n",
       "1 -3.418268 -4.245774 -2.594992  -3.855736 -1.413907    NaN  \n",
       "2 -6.465826  0.842213 -0.774048   1.728260 -0.274254    NaN  \n",
       "3 -4.062554  1.778725 -5.016870  -1.723710 -0.590242    NaN  \n",
       "4 -0.422893 -1.527469 -9.776343  -7.352884 -0.174162    NaN  \n",
       "\n",
       "[5 rows x 28 columns]"
      ]
     },
     "execution_count": 356,
     "metadata": {},
     "output_type": "execute_result"
    }
   ],
   "source": [
    "test_data = pd.read_csv('test_data.csv')\n",
    "test_data.head()"
   ]
  },
  {
   "cell_type": "code",
   "execution_count": 357,
   "metadata": {},
   "outputs": [
    {
     "data": {
      "text/plain": [
       "(1017, 28)"
      ]
     },
     "execution_count": 357,
     "metadata": {},
     "output_type": "execute_result"
    }
   ],
   "source": [
    "test_data.shape"
   ]
  },
  {
   "cell_type": "code",
   "execution_count": 358,
   "metadata": {},
   "outputs": [],
   "source": [
    "# Dropping unneccesary columns\n",
    "test_data = test_data.drop(['filename', 'label'],axis=1)"
   ]
  },
  {
   "cell_type": "code",
   "execution_count": 359,
   "metadata": {},
   "outputs": [],
   "source": [
    "#Normalising the dataset\n",
    "scaler = StandardScaler()\n",
    "test_data = scaler.fit_transform(np.array(test_data.iloc[:, :], dtype = float)) #selecting all rows in all columns except the last column(i.e -1)\n",
    "\n",
    "#In this scaled is calculated by removing the mean and dividing by the variance."
   ]
  },
  {
   "cell_type": "code",
   "execution_count": null,
   "metadata": {},
   "outputs": [],
   "source": []
  },
  {
   "cell_type": "code",
   "execution_count": null,
   "metadata": {},
   "outputs": [],
   "source": []
  },
  {
   "cell_type": "code",
   "execution_count": null,
   "metadata": {},
   "outputs": [],
   "source": []
  },
  {
   "cell_type": "markdown",
   "metadata": {},
   "source": [
    "## LOADING MODEL, PREDICTING AND PREPARING SUBMISSION FILE"
   ]
  },
  {
   "cell_type": "code",
   "execution_count": 384,
   "metadata": {},
   "outputs": [],
   "source": [
    "#loading model and predicting with  the model\n",
    "model= tf.keras.models.load_model('model5_all_features.h5')"
   ]
  },
  {
   "cell_type": "code",
   "execution_count": 385,
   "metadata": {},
   "outputs": [],
   "source": [
    "#predicting the test set proper\n",
    "ssd = model.predict(test_data)"
   ]
  },
  {
   "cell_type": "code",
   "execution_count": 386,
   "metadata": {},
   "outputs": [],
   "source": [
    "#copying sample_sub into a new variable\n",
    "samp = sample_sub.copy()\n",
    "\n",
    "#obtaining column list\n",
    "wwe=samp.columns\n",
    "\n",
    "#eliminating the fn column\n",
    "wwe = wwe[1:]\n",
    "\n",
    "# creating the dataframe \n",
    "df3 = pd.DataFrame(data = ssd,  \n",
    "                  index = None,  \n",
    "                  columns = wwe) \n",
    "\n",
    "#Adding back the fn column to submission file but first assigning it to a variable\n",
    "tio = sample_sub['fn']\n",
    "\n",
    "#now we combine all datasets together\n",
    "cbd =pd.concat([tio,df3], axis=1)\n",
    "\n",
    "cbd.to_csv('Sub6.csv', index=False)"
   ]
  },
  {
   "cell_type": "code",
   "execution_count": 341,
   "metadata": {},
   "outputs": [],
   "source": []
  },
  {
   "cell_type": "code",
   "execution_count": null,
   "metadata": {},
   "outputs": [],
   "source": []
  },
  {
   "cell_type": "code",
   "execution_count": null,
   "metadata": {},
   "outputs": [],
   "source": []
  },
  {
   "cell_type": "code",
   "execution_count": null,
   "metadata": {},
   "outputs": [],
   "source": []
  },
  {
   "cell_type": "code",
   "execution_count": null,
   "metadata": {},
   "outputs": [],
   "source": []
  },
  {
   "cell_type": "code",
   "execution_count": null,
   "metadata": {},
   "outputs": [],
   "source": []
  },
  {
   "cell_type": "code",
   "execution_count": null,
   "metadata": {},
   "outputs": [],
   "source": []
  },
  {
   "cell_type": "markdown",
   "metadata": {},
   "source": [
    "## OBSERVATIONS\n",
    "1. My first inference/submission was using only MFCCs(freq based) feature where i obtained an LB score of 7.27. But as soon as i included all other freq and time-based features as seen below it improved to a 5.2.\n",
    "\n",
    "1. Noticed that the validation loss increases as the epochs increases\n",
    "\n",
    "2. hence because of no.1, I reduced the epochs from 40(which gave me       6.2) to 10 epochs which gave me my highest score (5.2) so far on the leaderboard.\n",
    "\n",
    "3. While I tried to increase the epochs from 40 to 400, i got a very low loss on the leaderboard i.e 13.5. Hence, increasing the epochs much is not reliable in this work as the data is very small\n",
    "\n",
    "4. While I tried to use all the data X and y to train, I got a higher loss(5.3) than my lowest loss on LB(5.2).\n",
    "\n",
    "5. I also tried to reduce the batch_size from 32 to 5 but got an even higher loss = 5.7 on the LB.\n",
    "\n",
    "6. Note that for 3,4 and 5, the val_loss and train_loss were significantly reduced but the results didnt reflect on the public lb\n",
    "\n",
    "\n",
    "7. the following are the parameters for my cuurent hight lb position:\n",
    "    EPOCHS = 10\n",
    "    BATCH_SIZE = 32\n",
    "    PATIENCE = 5\n",
    "    LEARNING_RATE = 0.0001\n",
    "     \n",
    "    \n",
    "model = tf.keras.Sequential([\n",
    "    tf.keras.layers.Dense(254, activation='relu', input_shape= input_shape), \n",
    "    tf.keras.layers.Dense(120, activation='relu'),\n",
    "    tf.keras.layers.Dense(193, activation='softmax')])\n",
    "    \n",
    "    # define optimiser\n",
    "    optimiser = tf.optimizers.Adam(learning_rate=learning_rate)\n",
    "\n",
    "    # compile model\n",
    "    model.compile(optimizer=optimiser, loss=loss, metrics=['accuracy'])\n"
   ]
  },
  {
   "cell_type": "code",
   "execution_count": null,
   "metadata": {},
   "outputs": [],
   "source": []
  },
  {
   "cell_type": "code",
   "execution_count": 95,
   "metadata": {},
   "outputs": [],
   "source": [
    "# from sklearn.model_selection import StratifiedKFold\n",
    "\n",
    "# skf = StratifiedKFold(n_splits=2)\n",
    "# skf.get_n_splits(X, y)\n",
    "\n",
    "\n",
    "# StratifiedKFold(n_splits=2, random_state=None, shuffle=False)\n",
    "# for train_index, test_index in skf.split(X, y):\n",
    "#     print(\"TRAIN:\", train_index, \"TEST:\", test_index)\n",
    "#     X_train, X_test = X[train_index], X[test_index]\n",
    "#     y_train, y_test = y[train_index], y[test_index]\n"
   ]
  }
 ],
 "metadata": {
  "kernelspec": {
   "display_name": "Python 3",
   "language": "python",
   "name": "python3"
  },
  "language_info": {
   "codemirror_mode": {
    "name": "ipython",
    "version": 3
   },
   "file_extension": ".py",
   "mimetype": "text/x-python",
   "name": "python",
   "nbconvert_exporter": "python",
   "pygments_lexer": "ipython3",
   "version": "3.7.3"
  }
 },
 "nbformat": 4,
 "nbformat_minor": 4
}
