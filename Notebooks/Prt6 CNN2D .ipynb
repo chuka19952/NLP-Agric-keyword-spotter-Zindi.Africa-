{
 "cells": [
  {
   "cell_type": "code",
   "execution_count": 1,
   "metadata": {},
   "outputs": [],
   "source": [
    "# Keras\n",
    "import keras\n",
    "from keras import regularizers\n",
    "from keras.preprocessing import sequence\n",
    "from keras.preprocessing.text import Tokenizer\n",
    "from keras.preprocessing.sequence import pad_sequences\n",
    "from keras.models import Sequential, Model, model_from_json\n",
    "from keras.layers import Dense, Embedding, LSTM\n",
    "from keras.layers import Input, Flatten, Dropout, Activation, BatchNormalization\n",
    "from keras.layers import Conv1D, MaxPooling1D, AveragePooling1D\n",
    "from keras.utils import np_utils, to_categorical\n",
    "from keras.callbacks import (EarlyStopping, LearningRateScheduler,\n",
    "                             ModelCheckpoint, TensorBoard, ReduceLROnPlateau)\n",
    "from keras import losses, models, optimizers\n",
    "from keras.activations import relu, softmax\n",
    "from keras.layers import (Convolution2D, GlobalAveragePooling2D, BatchNormalization, Flatten, Dropout,\n",
    "                          GlobalMaxPool2D, MaxPool2D, concatenate, Activation, Input, Dense)\n",
    "\n",
    "# sklearn\n",
    "from sklearn.metrics import confusion_matrix, accuracy_score\n",
    "from sklearn.model_selection import train_test_split\n",
    "from sklearn.preprocessing import LabelEncoder\n",
    "\n",
    "# Other  \n",
    "from tqdm import tqdm, tqdm_pandas\n",
    "import scipy\n",
    "from scipy.stats import skew\n",
    "import librosa\n",
    "import librosa.display\n",
    "import json\n",
    "import numpy as np\n",
    "import matplotlib.pyplot as plt\n",
    "import tensorflow as tf\n",
    "from matplotlib.pyplot import specgram\n",
    "import pandas as pd\n",
    "import seaborn as sns\n",
    "import glob \n",
    "import os\n",
    "import sys\n",
    "import IPython.display as ipd  # To play sound in the notebook\n",
    "import warnings\n",
    "# ignore warnings \n",
    "if not sys.warnoptions:\n",
    "    warnings.simplefilter(\"ignore\")"
   ]
  },
  {
   "cell_type": "code",
   "execution_count": null,
   "metadata": {},
   "outputs": [],
   "source": []
  },
  {
   "cell_type": "code",
   "execution_count": 2,
   "metadata": {},
   "outputs": [
    {
     "data": {
      "text/plain": [
       "((1109, 2), (1017, 194))"
      ]
     },
     "execution_count": 2,
     "metadata": {},
     "output_type": "execute_result"
    }
   ],
   "source": [
    "df = pd.read_csv('Train.csv')\n",
    "sample_sub = pd.read_csv('SampleSubmission.csv')\n",
    "df.shape, sample_sub.shape"
   ]
  },
  {
   "cell_type": "markdown",
   "metadata": {},
   "source": [
    "# DEFINING/BUILDING NECCESSARY FUNCTION TO BE USED"
   ]
  },
  {
   "cell_type": "markdown",
   "metadata": {},
   "source": [
    "### 1. Data Augmentation method"
   ]
  },
  {
   "cell_type": "code",
   "execution_count": 3,
   "metadata": {},
   "outputs": [],
   "source": [
    "def speedNpitch(data):\n",
    "    \n",
    "    # Speed and Pitch Tuning.\n",
    "\n",
    "    # you can change low and high here\n",
    "    length_change = np.random.uniform(low=0.8, high = 1)\n",
    "    speed_fac = 1.2  / length_change # try changing 1.0 to 2.0 ... =D\n",
    "    tmp = np.interp(np.arange(0,len(data),speed_fac),np.arange(0,len(data)),data)\n",
    "    minlen = min(data.shape[0], tmp.shape[0])\n",
    "    data *= 0\n",
    "    data[0:minlen] = tmp[0:minlen]\n",
    "    return data"
   ]
  },
  {
   "cell_type": "markdown",
   "metadata": {},
   "source": [
    "### 2. Extracting the MFCC feature as an image (Matrix format)"
   ]
  },
  {
   "cell_type": "code",
   "execution_count": 4,
   "metadata": {},
   "outputs": [],
   "source": [
    "\n",
    "def prepare_data(df, n, aug, mfcc):\n",
    "    X = np.empty(shape=(df.shape[0], n, 216, 1))\n",
    "    input_length = sampling_rate * audio_duration\n",
    "    \n",
    "    cnt = 0\n",
    "    for fname in tqdm(df.fn):\n",
    "        file_path = fname\n",
    "        data, _ = librosa.load(file_path, sr=sampling_rate\n",
    "                               ,res_type=\"kaiser_fast\"\n",
    "                               ,duration=2.5\n",
    "                               \n",
    "                              )\n",
    "\n",
    "        # Random offset / Padding\n",
    "        if len(data) > input_length:\n",
    "            max_offset = len(data) - input_length\n",
    "            offset = np.random.randint(max_offset)\n",
    "            data = data[offset:(input_length+offset)]\n",
    "        else:\n",
    "            if input_length > len(data):\n",
    "                max_offset = input_length - len(data)\n",
    "                offset = np.random.randint(max_offset)\n",
    "            else:\n",
    "                offset = 0\n",
    "            data = np.pad(data, (offset, int(input_length) - len(data) - offset), \"constant\")\n",
    "\n",
    "        # Augmentation? \n",
    "        if aug == 1:\n",
    "            data = speedNpitch(data)\n",
    "        \n",
    "        # which feature?\n",
    "        if mfcc == 1:\n",
    "            # MFCC extraction \n",
    "            MFCC = librosa.feature.mfcc(data, sr=sampling_rate, n_mfcc=n_mfcc)\n",
    "            MFCC = np.expand_dims(MFCC, axis=-1)\n",
    "            X[cnt,] = MFCC\n",
    "            \n",
    "        else:\n",
    "            # Log-melspectogram\n",
    "            melspec = librosa.feature.melspectrogram(data, n_mels = n_melspec)   \n",
    "            logspec = librosa.amplitude_to_db(melspec)\n",
    "            logspec = np.expand_dims(logspec, axis=-1)\n",
    "            X[cnt,] = logspec\n",
    "            \n",
    "        cnt += 1\n",
    "    \n",
    "    return X\n",
    "\n"
   ]
  },
  {
   "cell_type": "code",
   "execution_count": null,
   "metadata": {},
   "outputs": [],
   "source": []
  },
  {
   "cell_type": "markdown",
   "metadata": {},
   "source": [
    "### 3. Confusion matrix plot "
   ]
  },
  {
   "cell_type": "code",
   "execution_count": 5,
   "metadata": {},
   "outputs": [],
   "source": [
    "        \n",
    "def print_confusion_matrix(confusion_matrix, class_names, figsize = (10,7), fontsize=14):\n",
    "    \"\"\" Prints a confusion matrix, as returned by sklearn.metrics.confusion_matrix, as a heatmap.\n",
    "\n",
    "    Arguments\n",
    "    ---------\n",
    "    confusion_matrix: numpy.ndarray\n",
    "        The numpy.ndarray object returned from a call to sklearn.metrics.confusion_matrix. \n",
    "        Similarly constructed ndarrays can also be used.\n",
    "    class_names: list\n",
    "        An ordered list of class names, in the order they index the given confusion matrix.\n",
    "    figsize: tuple\n",
    "        A 2-long tuple, the first value determining the horizontal size of the ouputted figure,\n",
    "        the second determining the vertical size. Defaults to (10,7).\n",
    "    fontsize: int\n",
    "        Font size for axes labels. Defaults to 14.\n",
    "\n",
    "    Returns\n",
    "    -------\n",
    "    matplotlib.figure.Figure\n",
    "        The resulting confusion matrix figure  \"\"\"\n",
    "\n",
    "    df_cm = pd.DataFrame(\n",
    "        confusion_matrix, index=class_names, columns=class_names, \n",
    "    )\n",
    "    fig = plt.figure(figsize=figsize)\n",
    "    try:\n",
    "        heatmap = sns.heatmap(df_cm, annot=True, fmt=\"d\")\n",
    "    except ValueError:\n",
    "        raise ValueError(\"Confusion matrix values must be integers.\")\n",
    "\n",
    "    heatmap.yaxis.set_ticklabels(heatmap.yaxis.get_ticklabels(), rotation=0, ha='right', fontsize=fontsize)\n",
    "    heatmap.xaxis.set_ticklabels(heatmap.xaxis.get_ticklabels(), rotation=45, ha='right', fontsize=fontsize)\n",
    "    plt.ylabel('True label')\n",
    "    plt.xlabel('Predicted label')\n"
   ]
  },
  {
   "cell_type": "code",
   "execution_count": null,
   "metadata": {},
   "outputs": [],
   "source": []
  },
  {
   "cell_type": "markdown",
   "metadata": {},
   "source": [
    "### 4. Create the 2D CNN model "
   ]
  },
  {
   "cell_type": "code",
   "execution_count": 6,
   "metadata": {},
   "outputs": [],
   "source": [
    "def get_2d_conv_model(n):\n",
    "    ''' Create a standard deep 2D convolutional neural network'''\n",
    "    nclass = 193\n",
    "    inp = Input(shape=(n,216,1))  #2D matrix of 30 MFCC bands by 216 audio length.\n",
    "    x = Convolution2D(32, (4,10), padding=\"same\")(inp)\n",
    "    x = BatchNormalization()(x)\n",
    "    x = Activation(\"relu\")(x)\n",
    "    x = MaxPool2D()(x)\n",
    "    x = Dropout(rate=0.2)(x)\n",
    "    \n",
    "    x = Convolution2D(32, (4,10), padding=\"same\")(x)\n",
    "    x = BatchNormalization()(x)\n",
    "    x = Activation(\"relu\")(x)\n",
    "    x = MaxPool2D()(x)\n",
    "    x = Dropout(rate=0.2)(x)\n",
    "    \n",
    "    x = Convolution2D(32, (4,10), padding=\"same\")(x)\n",
    "    x = BatchNormalization()(x)\n",
    "    x = Activation(\"relu\")(x)\n",
    "    x = MaxPool2D()(x)\n",
    "    x = Dropout(rate=0.2)(x)\n",
    "    \n",
    "    x = Convolution2D(32, (4,10), padding=\"same\")(x)\n",
    "    x = BatchNormalization()(x)\n",
    "    x = Activation(\"relu\")(x)\n",
    "    x = MaxPool2D()(x)\n",
    "    x = Dropout(rate=0.2)(x)\n",
    "    \n",
    "    x = Flatten()(x)\n",
    "    x = Dense(64)(x)\n",
    "    x = Dropout(rate=0.2)(x)\n",
    "    x = BatchNormalization()(x)\n",
    "    x = Activation(\"relu\")(x)\n",
    "    x = Dropout(rate=0.2)(x)\n",
    "    \n",
    "    out = Dense(nclass, activation=softmax)(x)\n",
    "    model = models.Model(inputs=inp, outputs=out)\n",
    "    \n",
    "    opt = optimizers.Adam(0.001)\n",
    "    model.compile(optimizer=opt, loss=losses.categorical_crossentropy, metrics=['acc'])\n",
    "    return model\n",
    "\n",
    "\n",
    "\n"
   ]
  },
  {
   "cell_type": "code",
   "execution_count": null,
   "metadata": {},
   "outputs": [],
   "source": []
  },
  {
   "cell_type": "markdown",
   "metadata": {},
   "source": [
    "# 5. Other functions "
   ]
  },
  {
   "cell_type": "code",
   "execution_count": 7,
   "metadata": {},
   "outputs": [],
   "source": [
    "\n",
    "\n",
    "class get_results:\n",
    "    '''\n",
    "    We're going to create a class (blueprint template) for generating the results based on the various model approaches. \n",
    "    So instead of repeating the functions each time, we assign the results into on object with its associated variables \n",
    "    depending on each combination:\n",
    "        1) MFCC with no augmentation  \n",
    "        2) MFCC with augmentation \n",
    "        3) Logmelspec with no augmentation \n",
    "        4) Logmelspec with augmentation\n",
    "    '''\n",
    "    \n",
    "    def __init__(self, model_history, model ,X_test, y_test, labels):\n",
    "        self.model_history = model_history\n",
    "        self.model = model\n",
    "        self.X_test = X_test\n",
    "        self.y_test = y_test             \n",
    "        self.labels = labels\n",
    "\n",
    "    def create_plot(self, model_history):\n",
    "        '''Check the logloss of both train and validation, make sure they are close and have plateau'''\n",
    "        plt.plot(model_history.history['loss'])\n",
    "        plt.plot(model_history.history['val_loss'])\n",
    "        plt.title('model loss')\n",
    "        plt.ylabel('loss')\n",
    "        plt.xlabel('epoch')\n",
    "        plt.legend(['train', 'test'], loc='upper left')\n",
    "        plt.show()\n",
    "\n",
    "    def create_results(self, model):\n",
    "        '''predict on test set and get accuracy results'''\n",
    "        opt = optimizers.Adam(0.001)\n",
    "        model.compile(loss='categorical_crossentropy', optimizer=opt, metrics=['accuracy'])\n",
    "        score = model.evaluate(X_test, y_test, verbose=0)\n",
    "        print(\"%s: %.2f%%\" % (model.metrics_names[1], score[1]*100))"
   ]
  },
  {
   "cell_type": "markdown",
   "metadata": {},
   "source": [
    "##  MFCC without augmentation\n",
    "So, what I'm about to do is use the entire MFCC data and treat it as an image, and push it through to a 2D CNN instead of a 1D CNN that we saw in previous parts. This will be without data augmentation for now. The convergence is very quick so instead of letting it run over 50 or more epochs, I'm going to just cut it at 20."
   ]
  },
  {
   "cell_type": "code",
   "execution_count": 11,
   "metadata": {},
   "outputs": [
    {
     "name": "stderr",
     "output_type": "stream",
     "text": [
      "100%|██████████| 1109/1109 [03:38<00:00,  6.82it/s]\n"
     ]
    }
   ],
   "source": [
    "sampling_rate=44100\n",
    "audio_duration=2.5\n",
    "n_mfcc = 30\n",
    "mfcc = prepare_data(df, n = n_mfcc, aug = 0, mfcc = 1)"
   ]
  },
  {
   "cell_type": "code",
   "execution_count": null,
   "metadata": {},
   "outputs": [],
   "source": []
  },
  {
   "cell_type": "code",
   "execution_count": 17,
   "metadata": {},
   "outputs": [
    {
     "name": "stdout",
     "output_type": "stream",
     "text": [
      "Epoch 1/20\n",
      "52/52 - 20s - loss: 5.4034 - acc: 0.0036 - val_loss: 5.2414 - val_acc: 0.0072\n",
      "Epoch 2/20\n",
      "52/52 - 20s - loss: 5.2199 - acc: 0.0181 - val_loss: 5.2016 - val_acc: 0.0144\n",
      "Epoch 3/20\n",
      "52/52 - 21s - loss: 5.0759 - acc: 0.0181 - val_loss: 5.2187 - val_acc: 0.0036\n",
      "Epoch 4/20\n",
      "52/52 - 22s - loss: 4.9983 - acc: 0.0217 - val_loss: 5.2407 - val_acc: 0.0144\n",
      "Epoch 5/20\n",
      "52/52 - 28s - loss: 4.9017 - acc: 0.0313 - val_loss: 5.0996 - val_acc: 0.0108\n",
      "Epoch 6/20\n",
      "52/52 - 33s - loss: 4.8022 - acc: 0.0481 - val_loss: 5.1959 - val_acc: 0.0072\n",
      "Epoch 7/20\n",
      "52/52 - 25s - loss: 4.7058 - acc: 0.0337 - val_loss: 5.0387 - val_acc: 0.0216\n",
      "Epoch 8/20\n",
      "52/52 - 25s - loss: 4.6332 - acc: 0.0457 - val_loss: 4.9600 - val_acc: 0.0180\n",
      "Epoch 9/20\n",
      "52/52 - 23s - loss: 4.5576 - acc: 0.0614 - val_loss: 4.9241 - val_acc: 0.0216\n",
      "Epoch 10/20\n",
      "52/52 - 27s - loss: 4.4237 - acc: 0.0818 - val_loss: 4.9177 - val_acc: 0.0288\n",
      "Epoch 11/20\n",
      "52/52 - 24s - loss: 4.3586 - acc: 0.0674 - val_loss: 4.9147 - val_acc: 0.0180\n",
      "Epoch 12/20\n",
      "52/52 - 24s - loss: 4.2542 - acc: 0.0842 - val_loss: 4.7825 - val_acc: 0.0324\n",
      "Epoch 13/20\n",
      "52/52 - 24s - loss: 4.1782 - acc: 0.1023 - val_loss: 4.7367 - val_acc: 0.0288\n",
      "Epoch 14/20\n",
      "52/52 - 26s - loss: 4.0690 - acc: 0.1107 - val_loss: 4.6954 - val_acc: 0.0288\n",
      "Epoch 15/20\n",
      "52/52 - 28s - loss: 3.9780 - acc: 0.1444 - val_loss: 4.6492 - val_acc: 0.0504\n",
      "Epoch 16/20\n",
      "52/52 - 23s - loss: 3.8894 - acc: 0.1360 - val_loss: 4.5999 - val_acc: 0.0360\n",
      "Epoch 17/20\n",
      "52/52 - 25s - loss: 3.7693 - acc: 0.1697 - val_loss: 4.6674 - val_acc: 0.0468\n",
      "Epoch 18/20\n",
      "52/52 - 26s - loss: 3.6903 - acc: 0.1781 - val_loss: 4.6574 - val_acc: 0.0468\n",
      "Epoch 19/20\n",
      "52/52 - 24s - loss: 3.5489 - acc: 0.2142 - val_loss: 4.5220 - val_acc: 0.0468\n",
      "Epoch 20/20\n",
      "52/52 - 26s - loss: 3.4386 - acc: 0.2250 - val_loss: 4.4367 - val_acc: 0.0683\n"
     ]
    }
   ],
   "source": [
    "# Split between train and test \n",
    "X_train, X_test, y_train, y_test = train_test_split(mfcc\n",
    "                                                    , df.label\n",
    "                                                    , test_size=0.25\n",
    "                                                    , shuffle=True\n",
    "                                                    , random_state=42\n",
    "                                                    , stratify = df.label\n",
    "                                                   )\n",
    "\n",
    "\n",
    "# one hot encode the target \n",
    "lb = LabelEncoder()\n",
    "y_train = np_utils.to_categorical(lb.fit_transform(y_train))\n",
    "y_test = np_utils.to_categorical(lb.fit_transform(y_test))\n",
    "\n",
    "# Normalization as per the standard NN process\n",
    "mean = np.mean(X_train, axis=0)\n",
    "std = np.std(X_train, axis=0)\n",
    "\n",
    "X_train = (X_train - mean)/std\n",
    "X_test = (X_test - mean)/std\n",
    "\n",
    "# Build CNN model \n",
    "model = get_2d_conv_model(n=n_mfcc)\n",
    "model_history = model.fit(X_train, y_train, validation_data=(X_test, y_test), \n",
    "                    batch_size=16, verbose = 2, epochs=20)\n"
   ]
  },
  {
   "cell_type": "code",
   "execution_count": null,
   "metadata": {},
   "outputs": [],
   "source": []
  },
  {
   "cell_type": "code",
   "execution_count": 21,
   "metadata": {},
   "outputs": [
    {
     "data": {
      "image/png": "[encoded data removed]",
      "text/plain": [
       "<Figure size 432x288 with 1 Axes>"
      ]
     },
     "metadata": {
      "needs_background": "light"
     },
     "output_type": "display_data"
    },
    {
     "name": "stdout",
     "output_type": "stream",
     "text": [
      "accuracy: 6.83%\n"
     ]
    }
   ],
   "source": [
    "results = get_results(model_history,model,X_test,y_test, df.label.unique())\n",
    "results.create_plot(model_history)\n",
    "results.create_results(model)"
   ]
  },
  {
   "cell_type": "markdown",
   "metadata": {},
   "source": [
    "For 20 epochs we had the following:\n",
    " loss: 3.4386 - acc: 0.2250 - val_loss: 4.4367 - val_acc: 0.0683\n",
    "\n",
    "Had an accuracy of 6.83% on the test set but didnt converge even though it looked like training it on more epochs would improve both the train and test loss/accuracy because the curves in the plot above has not yet shown a sign of a plateu yet which mean there might be room for possible improvement if we increase the number of epochs."
   ]
  },
  {
   "cell_type": "code",
   "execution_count": null,
   "metadata": {},
   "outputs": [],
   "source": []
  },
  {
   "cell_type": "markdown",
   "metadata": {},
   "source": [
    "## 3. MFCC with Augmentation"
   ]
  },
  {
   "cell_type": "code",
   "execution_count": 22,
   "metadata": {},
   "outputs": [
    {
     "name": "stderr",
     "output_type": "stream",
     "text": [
      "100%|██████████| 1109/1109 [02:29<00:00,  7.54it/s]\n"
     ]
    }
   ],
   "source": [
    "sampling_rate=44100\n",
    "audio_duration=2.5\n",
    "n_mfcc = 30\n",
    "mfcc_aug = prepare_data(df, n = n_mfcc, aug = 1, mfcc = 1)"
   ]
  },
  {
   "cell_type": "code",
   "execution_count": 24,
   "metadata": {},
   "outputs": [
    {
     "name": "stdout",
     "output_type": "stream",
     "text": [
      "Epoch 1/20\n",
      "52/52 - 20s - loss: 5.4487 - acc: 0.0024 - val_loss: 11.9914 - val_acc: 0.0072\n",
      "Epoch 2/20\n",
      "52/52 - 20s - loss: 5.3303 - acc: 0.0072 - val_loss: 6.1392 - val_acc: 0.0072\n",
      "Epoch 3/20\n",
      "52/52 - 19s - loss: 5.2500 - acc: 0.0072 - val_loss: 5.6177 - val_acc: 0.0036\n",
      "Epoch 4/20\n",
      "52/52 - 19s - loss: 5.1845 - acc: 0.0036 - val_loss: 5.1418 - val_acc: 0.0216\n",
      "Epoch 5/20\n",
      "52/52 - 20s - loss: 5.1153 - acc: 0.0144 - val_loss: 5.1710 - val_acc: 0.0036\n",
      "Epoch 6/20\n",
      "52/52 - 20s - loss: 5.0569 - acc: 0.0144 - val_loss: 5.0728 - val_acc: 0.0144\n",
      "Epoch 7/20\n",
      "52/52 - 20s - loss: 4.9841 - acc: 0.0181 - val_loss: 5.0314 - val_acc: 0.0144\n",
      "Epoch 8/20\n",
      "52/52 - 20s - loss: 4.9452 - acc: 0.0132 - val_loss: 5.1486 - val_acc: 0.0108\n",
      "Epoch 9/20\n",
      "52/52 - 21s - loss: 4.9253 - acc: 0.0193 - val_loss: 4.9507 - val_acc: 0.0324\n",
      "Epoch 10/20\n",
      "52/52 - 20s - loss: 4.8691 - acc: 0.0253 - val_loss: 4.9495 - val_acc: 0.0252\n",
      "Epoch 11/20\n",
      "52/52 - 23s - loss: 4.8241 - acc: 0.0229 - val_loss: 4.9281 - val_acc: 0.0288\n",
      "Epoch 12/20\n",
      "52/52 - 21s - loss: 4.7548 - acc: 0.0337 - val_loss: 4.9659 - val_acc: 0.0216\n",
      "Epoch 13/20\n",
      "52/52 - 22s - loss: 4.7191 - acc: 0.0349 - val_loss: 4.8811 - val_acc: 0.0252\n",
      "Epoch 14/20\n",
      "52/52 - 22s - loss: 4.6612 - acc: 0.0301 - val_loss: 4.9540 - val_acc: 0.0360\n",
      "Epoch 15/20\n",
      "52/52 - 22s - loss: 4.5992 - acc: 0.0433 - val_loss: 4.8420 - val_acc: 0.0324\n",
      "Epoch 16/20\n",
      "52/52 - 22s - loss: 4.5482 - acc: 0.0385 - val_loss: 4.8284 - val_acc: 0.0180\n",
      "Epoch 17/20\n",
      "52/52 - 21s - loss: 4.4795 - acc: 0.0457 - val_loss: 4.8532 - val_acc: 0.0180\n",
      "Epoch 18/20\n",
      "52/52 - 22s - loss: 4.4312 - acc: 0.0421 - val_loss: 4.8057 - val_acc: 0.0288\n",
      "Epoch 19/20\n",
      "52/52 - 24s - loss: 4.4005 - acc: 0.0433 - val_loss: 4.7283 - val_acc: 0.0252\n",
      "Epoch 20/20\n",
      "52/52 - 24s - loss: 4.3163 - acc: 0.0698 - val_loss: 4.7255 - val_acc: 0.0324\n"
     ]
    }
   ],
   "source": [
    "# Split between train and test \n",
    "X_train, X_test, y_train, y_test = train_test_split(mfcc_aug\n",
    "                                                    , df.label\n",
    "                                                    , test_size=0.25\n",
    "                                                    , shuffle=True\n",
    "                                                    , random_state=42\n",
    "                                                    , stratify = df.label\n",
    "                                                   )\n",
    "\n",
    "# one hot encode the target \n",
    "lb = LabelEncoder()\n",
    "y_train = np_utils.to_categorical(lb.fit_transform(y_train))\n",
    "y_test = np_utils.to_categorical(lb.fit_transform(y_test))\n",
    "\n",
    "# Normalization as per the standard NN process\n",
    "# mean = np.mean(X_train, axis=0)\n",
    "# std = np.std(X_train, axis=0)\n",
    "\n",
    "# X_train = (X_train - mean)/std\n",
    "# X_test = (X_test - mean)/std\n",
    "\n",
    "# Build CNN model \n",
    "model = get_2d_conv_model(n=n_mfcc)\n",
    "model_history = model.fit(X_train, y_train, validation_data=(X_test, y_test), \n",
    "                    batch_size=16, verbose = 2, epochs=20)\n"
   ]
  },
  {
   "cell_type": "code",
   "execution_count": 25,
   "metadata": {},
   "outputs": [
    {
     "data": {
      "image/png": "[encoded data removed]",
      "text/plain": [
       "<Figure size 432x288 with 1 Axes>"
      ]
     },
     "metadata": {
      "needs_background": "light"
     },
     "output_type": "display_data"
    },
    {
     "name": "stdout",
     "output_type": "stream",
     "text": [
      "accuracy: 3.24%\n"
     ]
    }
   ],
   "source": [
    "results = get_results(model_history,model,X_test,y_test, df.label.unique())\n",
    "results.create_plot(model_history)\n",
    "results.create_results(model)"
   ]
  },
  {
   "cell_type": "markdown",
   "metadata": {},
   "source": [
    "After 20 epochs, we had the following:\n",
    "loss: 4.3163 - acc: 0.0698 - val_loss: 4.7255 - val_acc: 0.0324\n",
    "\n",
    "This is really worst than the MFCC without augmentation .Lower train accuracy, higher train loss and even higher test loss. This may not be reliable.\n",
    "\n",
    "Here the curves seems to have converged but we had a lower test accuracy of 3.24% . Notice that the test loss and train loss began to diverge after the 8th epoch. we can train around 8 epochs and see how the leaderboard responds."
   ]
  },
  {
   "cell_type": "code",
   "execution_count": null,
   "metadata": {},
   "outputs": [],
   "source": []
  },
  {
   "cell_type": "markdown",
   "metadata": {},
   "source": [
    "## 4. Log-melspectogram without augmentation\n",
    "The accuracy is 60%, a slight drop from 64% without augmentation which is interesting and slightly unexpected. The plot of the logloss also indicates that it's converged. Suppose augmentation doesn't really do much for MFCC here... Note that due to some weird behaviour with the standardisation, I had to turn it off. So maybe that has some minor impact on the accuracy drop.\n",
    "\n",
    "Now, we're going to look at another type of feature call log-melspectogram. I've not covered it in this series but you can check out another kernel where I covered this feature quite extensively, right here. But in short, if we treat the log-melspectogram like an image just like we did with the MFCC, then we can feed it into the same 2D CNN architecture that we built! Lets give it a try, without augmentation first..."
   ]
  },
  {
   "cell_type": "code",
   "execution_count": 26,
   "metadata": {},
   "outputs": [
    {
     "name": "stderr",
     "output_type": "stream",
     "text": [
      "100%|██████████| 1109/1109 [01:44<00:00, 11.27it/s]\n"
     ]
    }
   ],
   "source": [
    "sampling_rate=44100\n",
    "audio_duration=2.5\n",
    "n_melspec = 60\n",
    "specgram = prepare_data(df, n = n_melspec, aug = 0, mfcc = 0)"
   ]
  },
  {
   "cell_type": "code",
   "execution_count": 27,
   "metadata": {},
   "outputs": [
    {
     "name": "stdout",
     "output_type": "stream",
     "text": [
      "Epoch 1/20\n",
      "52/52 - 42s - loss: 5.3754 - acc: 0.0048 - val_loss: 5.8010 - val_acc: 0.0108\n",
      "Epoch 2/20\n",
      "52/52 - 40s - loss: 5.2543 - acc: 0.0120 - val_loss: 5.2044 - val_acc: 0.0108\n",
      "Epoch 3/20\n",
      "52/52 - 46s - loss: 5.1656 - acc: 0.0144 - val_loss: 5.2014 - val_acc: 0.0144\n",
      "Epoch 4/20\n",
      "52/52 - 43s - loss: 5.0774 - acc: 0.0120 - val_loss: 5.2043 - val_acc: 0.0180\n",
      "Epoch 5/20\n",
      "52/52 - 44s - loss: 5.0154 - acc: 0.0168 - val_loss: 5.1004 - val_acc: 0.0180\n",
      "Epoch 6/20\n",
      "52/52 - 46s - loss: 4.9502 - acc: 0.0205 - val_loss: 5.0460 - val_acc: 0.0216\n",
      "Epoch 7/20\n",
      "52/52 - 45s - loss: 4.8715 - acc: 0.0373 - val_loss: 5.0578 - val_acc: 0.0252\n",
      "Epoch 8/20\n",
      "52/52 - 46s - loss: 4.7791 - acc: 0.0385 - val_loss: 5.0636 - val_acc: 0.0108\n",
      "Epoch 9/20\n",
      "52/52 - 45s - loss: 4.7253 - acc: 0.0481 - val_loss: 4.9176 - val_acc: 0.0360\n",
      "Epoch 10/20\n",
      "52/52 - 47s - loss: 4.6077 - acc: 0.0578 - val_loss: 4.8617 - val_acc: 0.0468\n",
      "Epoch 11/20\n",
      "52/52 - 48s - loss: 4.4819 - acc: 0.0590 - val_loss: 4.8154 - val_acc: 0.0612\n",
      "Epoch 12/20\n",
      "52/52 - 52s - loss: 4.4227 - acc: 0.0722 - val_loss: 4.7980 - val_acc: 0.0432\n",
      "Epoch 13/20\n",
      "52/52 - 54s - loss: 4.3792 - acc: 0.0830 - val_loss: 4.7655 - val_acc: 0.0612\n",
      "Epoch 14/20\n",
      "52/52 - 53s - loss: 4.2473 - acc: 0.1131 - val_loss: 4.7076 - val_acc: 0.0504\n",
      "Epoch 15/20\n",
      "52/52 - 52s - loss: 4.1888 - acc: 0.1071 - val_loss: 4.6427 - val_acc: 0.0504\n",
      "Epoch 16/20\n",
      "52/52 - 49s - loss: 4.0449 - acc: 0.1384 - val_loss: 4.5842 - val_acc: 0.0540\n",
      "Epoch 17/20\n",
      "52/52 - 52s - loss: 3.9543 - acc: 0.1408 - val_loss: 4.5421 - val_acc: 0.0612\n",
      "Epoch 18/20\n",
      "52/52 - 54s - loss: 3.8977 - acc: 0.1396 - val_loss: 4.4958 - val_acc: 0.0647\n",
      "Epoch 19/20\n",
      "52/52 - 52s - loss: 3.7531 - acc: 0.1781 - val_loss: 4.4549 - val_acc: 0.0899\n",
      "Epoch 20/20\n",
      "52/52 - 54s - loss: 3.6996 - acc: 0.1769 - val_loss: 4.4077 - val_acc: 0.0863\n"
     ]
    }
   ],
   "source": [
    "# Split between train and test \n",
    "X_train, X_test, y_train, y_test = train_test_split(specgram\n",
    "                                                    , df.label\n",
    "                                                    , test_size=0.25\n",
    "                                                    , shuffle=True\n",
    "                                                    , random_state=42\n",
    "                                                    , stratify = df.label\n",
    "                                                   )\n",
    "\n",
    "\n",
    "\n",
    "# one hot encode the target \n",
    "lb = LabelEncoder()\n",
    "y_train = np_utils.to_categorical(lb.fit_transform(y_train))\n",
    "y_test = np_utils.to_categorical(lb.fit_transform(y_test))\n",
    "\n",
    "# Normalization as per the standard NN process\n",
    "mean = np.mean(X_train, axis=0)\n",
    "std = np.std(X_train, axis=0)\n",
    "\n",
    "X_train = (X_train - mean)/std\n",
    "X_test = (X_test - mean)/std\n",
    "\n",
    "# Build CNN model \n",
    "model = get_2d_conv_model(n=n_melspec)\n",
    "model_history = model.fit(X_train, y_train, validation_data=(X_test, y_test), \n",
    "                    batch_size=16, verbose = 2, epochs=20)"
   ]
  },
  {
   "cell_type": "code",
   "execution_count": 28,
   "metadata": {},
   "outputs": [
    {
     "data": {
      "image/png": "[encoded data removed]",
      "text/plain": [
       "<Figure size 432x288 with 1 Axes>"
      ]
     },
     "metadata": {
      "needs_background": "light"
     },
     "output_type": "display_data"
    },
    {
     "name": "stdout",
     "output_type": "stream",
     "text": [
      "accuracy: 8.63%\n"
     ]
    }
   ],
   "source": [
    "results = get_results(model_history,model,X_test,y_test, df.label.unique())\n",
    "results.create_plot(model_history)\n",
    "results.create_results(model)"
   ]
  },
  {
   "cell_type": "markdown",
   "metadata": {},
   "source": [
    "After 20 epochs\n",
    "loss: 3.6996 - acc: 0.1769 - val_loss: 4.4077 - val_acc: 0.0863\n",
    "\n",
    "Much better test accuracy than the mfcc without aug with an accuracy  of 8.63(previously 6.83 as highest).Although, the train accuracy for for mfcc without aug was higher. Training this on a continous increasing epochs may be dangerous has the train and test loss are already began its divergence after the 3rd epoch. It also prooves to continue in that same manner."
   ]
  },
  {
   "cell_type": "markdown",
   "metadata": {},
   "source": [
    "## 5. Log-melspectogram with augmentation¶\n",
    "63% accuracy for a log-melspectogram. Slighlty lower than MFCC but very close. Notice however from the logloss plot, the log-melspectogram accuracy potential hasn't quite plateau yet. It's likely that higher number of epochs the accuracy could surpass that of the MFCC, albeit slightly. Eitherways, very interesting!\n",
    "\n",
    "So now let's see what happens if we apply the same data augmentation here."
   ]
  },
  {
   "cell_type": "code",
   "execution_count": 29,
   "metadata": {},
   "outputs": [
    {
     "name": "stderr",
     "output_type": "stream",
     "text": [
      "100%|██████████| 1109/1109 [02:21<00:00,  9.24it/s]\n"
     ]
    }
   ],
   "source": [
    "sampling_rate=44100\n",
    "audio_duration=2.5\n",
    "n_melspec = 60\n",
    "aug_specgram = prepare_data(df,  n = n_melspec, aug = 1, mfcc = 0)"
   ]
  },
  {
   "cell_type": "code",
   "execution_count": 30,
   "metadata": {},
   "outputs": [
    {
     "name": "stdout",
     "output_type": "stream",
     "text": [
      "Epoch 1/20\n",
      "52/52 - 44s - loss: 5.4193 - acc: 0.0108 - val_loss: 5.3209 - val_acc: 0.0000e+00\n",
      "Epoch 2/20\n",
      "52/52 - 48s - loss: 5.2213 - acc: 0.0120 - val_loss: 5.1629 - val_acc: 0.0180\n",
      "Epoch 3/20\n",
      "52/52 - 50s - loss: 5.1249 - acc: 0.0168 - val_loss: 5.1943 - val_acc: 0.0036\n",
      "Epoch 4/20\n",
      "52/52 - 49s - loss: 5.0459 - acc: 0.0156 - val_loss: 5.1184 - val_acc: 0.0144\n",
      "Epoch 5/20\n",
      "52/52 - 49s - loss: 4.9583 - acc: 0.0168 - val_loss: 5.0039 - val_acc: 0.0252\n",
      "Epoch 6/20\n",
      "52/52 - 50s - loss: 4.8816 - acc: 0.0241 - val_loss: 5.0000 - val_acc: 0.0396\n",
      "Epoch 7/20\n",
      "52/52 - 50s - loss: 4.7646 - acc: 0.0289 - val_loss: 5.0007 - val_acc: 0.0468\n",
      "Epoch 8/20\n",
      "52/52 - 56s - loss: 4.6619 - acc: 0.0361 - val_loss: 4.9878 - val_acc: 0.0324\n",
      "Epoch 9/20\n",
      "52/52 - 54s - loss: 4.6247 - acc: 0.0590 - val_loss: 4.8937 - val_acc: 0.0360\n",
      "Epoch 10/20\n",
      "52/52 - 49s - loss: 4.5457 - acc: 0.0590 - val_loss: 4.7756 - val_acc: 0.0396\n",
      "Epoch 11/20\n",
      "52/52 - 60s - loss: 4.4611 - acc: 0.0734 - val_loss: 4.7317 - val_acc: 0.0432\n",
      "Epoch 12/20\n",
      "52/52 - 53s - loss: 4.3253 - acc: 0.0830 - val_loss: 4.6749 - val_acc: 0.0432\n",
      "Epoch 13/20\n",
      "52/52 - 49s - loss: 4.2628 - acc: 0.1011 - val_loss: 4.6588 - val_acc: 0.0504\n",
      "Epoch 14/20\n",
      "52/52 - 50s - loss: 4.1688 - acc: 0.1131 - val_loss: 4.5785 - val_acc: 0.0468\n",
      "Epoch 15/20\n",
      "52/52 - 48s - loss: 4.0482 - acc: 0.1444 - val_loss: 4.5498 - val_acc: 0.0612\n",
      "Epoch 16/20\n",
      "52/52 - 50s - loss: 3.9839 - acc: 0.1336 - val_loss: 4.4832 - val_acc: 0.0612\n",
      "Epoch 17/20\n",
      "52/52 - 48s - loss: 3.8553 - acc: 0.1721 - val_loss: 4.4806 - val_acc: 0.0719\n",
      "Epoch 18/20\n",
      "52/52 - 49s - loss: 3.7559 - acc: 0.1564 - val_loss: 4.4012 - val_acc: 0.0755\n",
      "Epoch 19/20\n",
      "52/52 - 56s - loss: 3.6920 - acc: 0.1829 - val_loss: 4.3829 - val_acc: 0.0683\n",
      "Epoch 20/20\n",
      "52/52 - 55s - loss: 3.5642 - acc: 0.2250 - val_loss: 4.3409 - val_acc: 0.0971\n"
     ]
    }
   ],
   "source": [
    "# Split between train and test \n",
    "X_train, X_test, y_train, y_test = train_test_split(aug_specgram\n",
    "                                                    , df.label\n",
    "                                                    , test_size=0.25\n",
    "                                                    , shuffle=True\n",
    "                                                    , random_state=42\n",
    "                                                    , stratify = df.label\n",
    "                                                   )\n",
    "\n",
    "\n",
    "\n",
    "# one hot encode the target \n",
    "lb = LabelEncoder()\n",
    "y_train = np_utils.to_categorical(lb.fit_transform(y_train))\n",
    "y_test = np_utils.to_categorical(lb.fit_transform(y_test))\n",
    "\n",
    "# Normalization as per the standard NN process\n",
    "mean = np.mean(X_train, axis=0)\n",
    "std = np.std(X_train, axis=0)\n",
    "\n",
    "X_train = (X_train - mean)/std\n",
    "X_test = (X_test - mean)/std\n",
    "\n",
    "# Build CNN model \n",
    "model = get_2d_conv_model(n=n_melspec)\n",
    "model_history = model.fit(X_train, y_train, validation_data=(X_test, y_test), \n",
    "                    batch_size=16, verbose = 2, epochs=20)"
   ]
  },
  {
   "cell_type": "code",
   "execution_count": 31,
   "metadata": {},
   "outputs": [
    {
     "data": {
      "image/png": "[encoded data removed]",
      "text/plain": [
       "<Figure size 432x288 with 1 Axes>"
      ]
     },
     "metadata": {
      "needs_background": "light"
     },
     "output_type": "display_data"
    },
    {
     "name": "stdout",
     "output_type": "stream",
     "text": [
      "accuracy: 9.71%\n"
     ]
    }
   ],
   "source": [
    "results = get_results(model_history,model,X_test,y_test, df.label.unique())\n",
    "results.create_plot(model_history)\n",
    "results.create_results(model)"
   ]
  },
  {
   "cell_type": "markdown",
   "metadata": {},
   "source": [
    "loss: 3.5642 - acc: 0.2250 - val_loss: 4.3409 - val_acc: 0.0971\n",
    "\n",
    "best performance so far....log-mel with aug has prooven to have a higher test accuracy, lower, train and test loss as well. Although divergence has already started after 3rd epoch but then we can still further increase the epoch and check for possible improvements.As well as apply other augmentation techniques"
   ]
  },
  {
   "cell_type": "code",
   "execution_count": null,
   "metadata": {},
   "outputs": [],
   "source": []
  },
  {
   "cell_type": "code",
   "execution_count": null,
   "metadata": {},
   "outputs": [],
   "source": []
  },
  {
   "cell_type": "markdown",
   "metadata": {},
   "source": [
    "## Pre- Processing Test set"
   ]
  },
  {
   "cell_type": "code",
   "execution_count": 12,
   "metadata": {},
   "outputs": [
    {
     "name": "stderr",
     "output_type": "stream",
     "text": [
      "100%|██████████| 1017/1017 [01:57<00:00,  8.77it/s]\n"
     ]
    }
   ],
   "source": [
    "sampling_rate=44100\n",
    "audio_duration=2.5\n",
    "n_melspec = 60\n",
    "test_set = prepare_data(sample_sub,  n = n_melspec, aug = 1, mfcc = 0)"
   ]
  },
  {
   "cell_type": "code",
   "execution_count": null,
   "metadata": {},
   "outputs": [],
   "source": []
  },
  {
   "cell_type": "code",
   "execution_count": 14,
   "metadata": {},
   "outputs": [],
   "source": [
    "# Normalization as per the standard NN process\n",
    "mean = np.mean(test_set, axis=0)\n",
    "std = np.std(test_set, axis=0)\n",
    "\n",
    "test_set = (test_set - mean)/std\n",
    "\n"
   ]
  },
  {
   "cell_type": "code",
   "execution_count": null,
   "metadata": {},
   "outputs": [],
   "source": []
  },
  {
   "cell_type": "markdown",
   "metadata": {},
   "source": [
    "## INCREASING EPOCHS FOR EACH OF THE FOUR TRIALS ABOVE AND TESTING ON THE TEST SET TO SEE PERF OF LB"
   ]
  },
  {
   "cell_type": "code",
   "execution_count": 8,
   "metadata": {},
   "outputs": [
    {
     "name": "stderr",
     "output_type": "stream",
     "text": [
      "100%|██████████| 1109/1109 [02:08<00:00,  8.40it/s]\n"
     ]
    }
   ],
   "source": [
    "# pre-processing train_set for mel-log with aug # I seperated it from the previous\n",
    "# above so as not to clear/distort/confuse the result already obtained.\n",
    "sampling_rate=44100\n",
    "audio_duration=2.5\n",
    "n_melspec = 60\n",
    "aug_specgram = prepare_data(df,  n = n_melspec, aug = 1, mfcc = 0)"
   ]
  },
  {
   "cell_type": "code",
   "execution_count": 23,
   "metadata": {},
   "outputs": [
    {
     "name": "stdout",
     "output_type": "stream",
     "text": [
      "Epoch 1/10\n",
      "52/52 - 32s - loss: 5.3918 - acc: 0.0048 - val_loss: 5.6019 - val_acc: 0.0108\n",
      "Epoch 2/10\n",
      "52/52 - 31s - loss: 5.2111 - acc: 0.0108 - val_loss: 5.2355 - val_acc: 0.0072\n",
      "Epoch 3/10\n",
      "52/52 - 35s - loss: 5.1367 - acc: 0.0193 - val_loss: 5.1847 - val_acc: 0.0144\n",
      "Epoch 4/10\n",
      "52/52 - 36s - loss: 5.0251 - acc: 0.0205 - val_loss: 5.0909 - val_acc: 0.0180\n",
      "Epoch 5/10\n",
      "52/52 - 36s - loss: 4.9535 - acc: 0.0144 - val_loss: 5.1008 - val_acc: 0.0144\n",
      "Epoch 6/10\n",
      "52/52 - 38s - loss: 4.9140 - acc: 0.0325 - val_loss: 5.0189 - val_acc: 0.0252\n",
      "Epoch 7/10\n",
      "52/52 - 40s - loss: 4.8094 - acc: 0.0349 - val_loss: 5.0244 - val_acc: 0.0216\n",
      "Epoch 8/10\n",
      "52/52 - 46s - loss: 4.7411 - acc: 0.0493 - val_loss: 4.9768 - val_acc: 0.0252\n",
      "Epoch 9/10\n",
      "52/52 - 41s - loss: 4.6722 - acc: 0.0469 - val_loss: 4.9169 - val_acc: 0.0288\n",
      "Epoch 10/10\n",
      "52/52 - 44s - loss: 4.5665 - acc: 0.0554 - val_loss: 4.9033 - val_acc: 0.0288\n"
     ]
    }
   ],
   "source": [
    "# Split between train and test \n",
    "X_train, X_test, y_train, y_test = train_test_split(aug_specgram\n",
    "                                                    , df.label\n",
    "                                                    , test_size=0.25\n",
    "                                                    , shuffle=True\n",
    "                                                    , random_state=42\n",
    "                                                    , stratify = df.label\n",
    "                                                   )\n",
    "\n",
    "\n",
    "\n",
    "# one hot encode the target \n",
    "lb = LabelEncoder()\n",
    "y_train = np_utils.to_categorical(lb.fit_transform(y_train))\n",
    "y_test = np_utils.to_categorical(lb.fit_transform(y_test))\n",
    "\n",
    "# Normalization as per the standard NN process\n",
    "mean = np.mean(X_train, axis=0)\n",
    "std = np.std(X_train, axis=0)\n",
    "\n",
    "X_train = (X_train - mean)/std\n",
    "X_test = (X_test - mean)/std\n",
    "\n",
    "# Build CNN model \n",
    "model = get_2d_conv_model(n=n_melspec)\n",
    "model_history = model.fit(X_train, y_train, validation_data=(X_test, y_test), \n",
    "                    batch_size=16, verbose = 2, epochs=10)"
   ]
  },
  {
   "cell_type": "code",
   "execution_count": 24,
   "metadata": {},
   "outputs": [
    {
     "data": {
      "image/png": "[encoded data removed]",
      "text/plain": [
       "<Figure size 432x288 with 1 Axes>"
      ]
     },
     "metadata": {
      "needs_background": "light"
     },
     "output_type": "display_data"
    },
    {
     "name": "stdout",
     "output_type": "stream",
     "text": [
      "accuracy: 2.88%\n"
     ]
    }
   ],
   "source": [
    "results = get_results(model_history,model,X_test,y_test, df.label.unique())\n",
    "results.create_plot(model_history)\n",
    "results.create_results(model)"
   ]
  },
  {
   "cell_type": "code",
   "execution_count": 25,
   "metadata": {},
   "outputs": [],
   "source": [
    "# #predicting the test set proper\n",
    "ssd = model.predict(test_set)"
   ]
  },
  {
   "cell_type": "code",
   "execution_count": 26,
   "metadata": {},
   "outputs": [],
   "source": [
    "#copying sample_sub into a new variable\n",
    "samp = sample_sub.copy()\n",
    "\n",
    "#obtaining column list\n",
    "wwe=samp.columns\n",
    "\n",
    "#eliminating the fn column\n",
    "wwe = wwe[1:]\n",
    "\n",
    "# creating the dataframe \n",
    "df3 = pd.DataFrame(data = ssd,  \n",
    "                  index = None,  \n",
    "                  columns = wwe) \n",
    "\n",
    "#Adding back the fn column to submission file but first assigning it to a variable\n",
    "tio = sample_sub['fn']\n",
    "\n",
    "#now we combine all datasets together\n",
    "cbd =pd.concat([tio,df3], axis=1)\n",
    "\n",
    "cbd.to_csv('Sub19.csv', index=False)"
   ]
  },
  {
   "cell_type": "code",
   "execution_count": null,
   "metadata": {},
   "outputs": [],
   "source": []
  },
  {
   "cell_type": "markdown",
   "metadata": {},
   "source": [
    "## OBSERVATION"
   ]
  },
  {
   "cell_type": "markdown",
   "metadata": {},
   "source": [
    "1. After predicting the test_set using the trained model for the log-mel with      aug,we obtained a leader board score of 5.7 loss for 20 epochs...we got same    score for 10 epochs.\n",
    "\n",
    "2. I reduced the epochs to 8 but it only improved to 5.5 "
   ]
  },
  {
   "cell_type": "code",
   "execution_count": null,
   "metadata": {},
   "outputs": [],
   "source": []
  }
 ],
 "metadata": {
  "kernelspec": {
   "display_name": "Python 3",
   "language": "python",
   "name": "python3"
  },
  "language_info": {
   "codemirror_mode": {
    "name": "ipython",
    "version": 3
   },
   "file_extension": ".py",
   "mimetype": "text/x-python",
   "name": "python",
   "nbconvert_exporter": "python",
   "pygments_lexer": "ipython3",
   "version": "3.7.3"
  }
 },
 "nbformat": 4,
 "nbformat_minor": 4
}
