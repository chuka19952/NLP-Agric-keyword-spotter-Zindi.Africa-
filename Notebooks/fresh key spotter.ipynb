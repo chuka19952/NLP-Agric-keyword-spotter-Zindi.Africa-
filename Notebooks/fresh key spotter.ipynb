{
 "cells": [
  {
   "cell_type": "code",
   "execution_count": 1,
   "metadata": {},
   "outputs": [
    {
     "name": "stderr",
     "output_type": "stream",
     "text": [
      "Using TensorFlow backend.\n"
     ]
    }
   ],
   "source": [
    "import pandas as pd\n",
    "import numpy as np\n",
    "import librosa\n",
    "import os\n",
    "import json\n",
    "import soundfile as sf\n",
    "import ffmpeg\n",
    "import IPython.display as ipd\n",
    "\n",
    "import json\n",
    "import numpy as np\n",
    "import tensorflow as tf\n",
    "import matplotlib.pyplot as plt\n",
    "from sklearn.model_selection import train_test_split\n",
    "from keras.utils import to_categorical\n",
    "from sklearn import preprocessing\n"
   ]
  },
  {
   "cell_type": "code",
   "execution_count": 2,
   "metadata": {},
   "outputs": [],
   "source": []
  },
  {
   "cell_type": "code",
   "execution_count": 3,
   "metadata": {},
   "outputs": [
    {
     "data": {
      "text/plain": [
       "((1109, 2), (1017, 194))"
      ]
     },
     "execution_count": 3,
     "metadata": {},
     "output_type": "execute_result"
    }
   ],
   "source": [
    "df = pd.read_csv('Train.csv')\n",
    "sample_sub = pd.read_csv('SampleSubmission.csv')\n",
    "df.shape, sample_sub.shape"
   ]
  },
  {
   "cell_type": "code",
   "execution_count": 4,
   "metadata": {},
   "outputs": [],
   "source": [
    "DATASET_PATH = \"audio_files\"\n",
    "JSON_PATH = \"nd.json\"\n",
    "SAMPLES_TO_CONSIDER = 22050 # 1 sec. of audio"
   ]
  },
  {
   "cell_type": "code",
   "execution_count": 4,
   "metadata": {},
   "outputs": [],
   "source": [
    "sample, sr = librosa.load('audio_files/01QEEZI.wav')"
   ]
  },
  {
   "cell_type": "code",
   "execution_count": 5,
   "metadata": {},
   "outputs": [
    {
     "data": {
      "text/plain": [
       "((54243,), 22050)"
      ]
     },
     "execution_count": 5,
     "metadata": {},
     "output_type": "execute_result"
    }
   ],
   "source": [
    "sample.shape, sr"
   ]
  },
  {
   "cell_type": "code",
   "execution_count": null,
   "metadata": {},
   "outputs": [],
   "source": []
  },
  {
   "cell_type": "code",
   "execution_count": 12,
   "metadata": {},
   "outputs": [],
   "source": [
    "# def preprocess_dataset(dataset_path, json_path, num_mfcc=13, n_fft=2048, hop_length=512):\n",
    "#     \"\"\"Extracts MFCCs from music dataset and saves them into a json file.\n",
    "\n",
    "#     :param dataset_path (str): Path to dataset\n",
    "#     :param json_path (str): Path to json file used to save MFCCs\n",
    "#     :param num_mfcc (int): Number of coefficients to extract\n",
    "#     :param n_fft (int): Interval we consider to apply FFT. Measured in # of samples\n",
    "#     :param hop_length (int): Sliding window for FFT. Measured in # of samples\n",
    "#     :return:\n",
    "#     \"\"\"\n",
    "\n",
    "#     # dictionary where we'll store mapping, labels, MFCCs and filenames\n",
    "#     data_new = {\n",
    "#         \"mapping\": [],\n",
    "#         \"labels\": [],\n",
    "#         \"MFCCs\": [],\n",
    "#         \"files\": []\n",
    "#     }\n",
    "    \n",
    "#     #looping through the train.csv \n",
    "#     for i in df['fn']:\n",
    "        \n",
    "        \n",
    "            \n",
    "#         # load audio file and slice it to ensure length consistency among different files\n",
    "#         signal, sample_rate = librosa.load(i)\n",
    "\n",
    "#         # drop audio files with less than pre-decided number of samples\n",
    "#         if len(signal) >= SAMPLES_TO_CONSIDER:\n",
    "#            # ensure consistency of the length of the signal\n",
    "#             signal = signal[:SAMPLES_TO_CONSIDER]\n",
    "\n",
    "#            # extract MFCCs\n",
    "#             MFCCs = librosa.feature.mfcc(signal, sample_rate, n_mfcc=num_mfcc, n_fft=n_fft,\n",
    "#                                                  hop_length=hop_length)\n",
    "#            # store data for analysed track\n",
    "#             data_new[\"MFCCs\"].append(MFCCs.T.tolist())\n",
    "#             data_new[\"files\"].append(i)\n",
    "            \n",
    "#     for j in df['label']: \n",
    "        \n",
    "#            # store data for analysed track\n",
    "#             data_new[\"labels\"].append(j)\n",
    "            \n",
    "#             print(\"{}: {}\".format(i, j))\n",
    "\n",
    "#     # save data in json file\n",
    "#     with open(json_path, \"w\") as fp:\n",
    "#         json.dump(data_new, fp, indent=4)\n",
    "\n",
    "\n",
    "# if __name__ == \"__main__\":\n",
    "#     preprocess_dataset(DATASET_PATH, JSON_PATH)   "
   ]
  },
  {
   "cell_type": "code",
   "execution_count": 14,
   "metadata": {},
   "outputs": [
    {
     "data": {
      "text/html": [
       "<div>\n",
       "<style scoped>\n",
       "    .dataframe tbody tr th:only-of-type {\n",
       "        vertical-align: middle;\n",
       "    }\n",
       "\n",
       "    .dataframe tbody tr th {\n",
       "        vertical-align: top;\n",
       "    }\n",
       "\n",
       "    .dataframe thead th {\n",
       "        text-align: right;\n",
       "    }\n",
       "</style>\n",
       "<table border=\"1\" class=\"dataframe\">\n",
       "  <thead>\n",
       "    <tr style=\"text-align: right;\">\n",
       "      <th></th>\n",
       "      <th>fn</th>\n",
       "      <th>label</th>\n",
       "    </tr>\n",
       "  </thead>\n",
       "  <tbody>\n",
       "    <tr>\n",
       "      <th>0</th>\n",
       "      <td>audio_files/IV38R7F.wav</td>\n",
       "      <td>akawuka</td>\n",
       "    </tr>\n",
       "    <tr>\n",
       "      <th>1</th>\n",
       "      <td>audio_files/KM4SKWT.wav</td>\n",
       "      <td>banana</td>\n",
       "    </tr>\n",
       "    <tr>\n",
       "      <th>2</th>\n",
       "      <td>audio_files/F5POSU9.wav</td>\n",
       "      <td>obulwadde</td>\n",
       "    </tr>\n",
       "    <tr>\n",
       "      <th>3</th>\n",
       "      <td>audio_files/MMVDXG2.wav</td>\n",
       "      <td>nnyaanya</td>\n",
       "    </tr>\n",
       "    <tr>\n",
       "      <th>4</th>\n",
       "      <td>audio_files/9TVM96F.wav</td>\n",
       "      <td>pampu</td>\n",
       "    </tr>\n",
       "  </tbody>\n",
       "</table>\n",
       "</div>"
      ],
      "text/plain": [
       "                        fn      label\n",
       "0  audio_files/IV38R7F.wav    akawuka\n",
       "1  audio_files/KM4SKWT.wav     banana\n",
       "2  audio_files/F5POSU9.wav  obulwadde\n",
       "3  audio_files/MMVDXG2.wav   nnyaanya\n",
       "4  audio_files/9TVM96F.wav      pampu"
      ]
     },
     "execution_count": 14,
     "metadata": {},
     "output_type": "execute_result"
    }
   ],
   "source": [
    "df.head()"
   ]
  },
  {
   "cell_type": "code",
   "execution_count": null,
   "metadata": {},
   "outputs": [],
   "source": []
  },
  {
   "cell_type": "code",
   "execution_count": 9,
   "metadata": {},
   "outputs": [
    {
     "name": "stdout",
     "output_type": "stream",
     "text": [
      "Training sets loaded!\n",
      "Model: \"sequential\"\n",
      "_________________________________________________________________\n",
      "Layer (type)                 Output Shape              Param #   \n",
      "=================================================================\n",
      "conv2d (Conv2D)              (None, 42, 11, 64)        640       \n",
      "_________________________________________________________________\n",
      "batch_normalization (BatchNo (None, 42, 11, 64)        256       \n",
      "_________________________________________________________________\n",
      "max_pooling2d (MaxPooling2D) (None, 21, 6, 64)         0         \n",
      "_________________________________________________________________\n",
      "conv2d_1 (Conv2D)            (None, 19, 4, 32)         18464     \n",
      "_________________________________________________________________\n",
      "batch_normalization_1 (Batch (None, 19, 4, 32)         128       \n",
      "_________________________________________________________________\n",
      "max_pooling2d_1 (MaxPooling2 (None, 10, 2, 32)         0         \n",
      "_________________________________________________________________\n",
      "conv2d_2 (Conv2D)            (None, 9, 1, 32)          4128      \n",
      "_________________________________________________________________\n",
      "batch_normalization_2 (Batch (None, 9, 1, 32)          128       \n",
      "_________________________________________________________________\n",
      "max_pooling2d_2 (MaxPooling2 (None, 5, 1, 32)          0         \n",
      "_________________________________________________________________\n",
      "flatten (Flatten)            (None, 160)               0         \n",
      "_________________________________________________________________\n",
      "dense (Dense)                (None, 64)                10304     \n",
      "_________________________________________________________________\n",
      "dense_1 (Dense)              (None, 193)               12545     \n",
      "=================================================================\n",
      "Total params: 46,593\n",
      "Trainable params: 46,337\n",
      "Non-trainable params: 256\n",
      "_________________________________________________________________\n",
      "Train on 709 samples, validate on 178 samples\n",
      "Epoch 1/40\n",
      "WARNING:tensorflow:Entity <function Function._initialize_uninitialized_variables.<locals>.initialize_variables at 0x7f8201507510> could not be transformed and will be executed as-is. Please report this to the AutoGraph team. When filing the bug, set the verbosity to 10 (on Linux, `export AUTOGRAPH_VERBOSITY=10`) and attach the full output. Cause: module 'gast' has no attribute 'Num'\n",
      "WARNING: Entity <function Function._initialize_uninitialized_variables.<locals>.initialize_variables at 0x7f8201507510> could not be transformed and will be executed as-is. Please report this to the AutoGraph team. When filing the bug, set the verbosity to 10 (on Linux, `export AUTOGRAPH_VERBOSITY=10`) and attach the full output. Cause: module 'gast' has no attribute 'Num'\n",
      "709/709 [==============================] - 4s 5ms/sample - loss: 5.5342 - accuracy: 0.0056 - val_loss: 6.2559 - val_accuracy: 0.0000e+00\n",
      "Epoch 2/40\n",
      "709/709 [==============================] - 1s 1ms/sample - loss: 5.4201 - accuracy: 0.0099 - val_loss: 5.7317 - val_accuracy: 0.0000e+00\n",
      "Epoch 3/40\n",
      "709/709 [==============================] - 1s 1ms/sample - loss: 5.3521 - accuracy: 0.0155 - val_loss: 5.5589 - val_accuracy: 0.0000e+00\n",
      "Epoch 4/40\n",
      "709/709 [==============================] - 1s 1ms/sample - loss: 5.2885 - accuracy: 0.0183 - val_loss: 5.4780 - val_accuracy: 0.0000e+00\n",
      "Epoch 5/40\n",
      "709/709 [==============================] - 1s 1ms/sample - loss: 5.2362 - accuracy: 0.0282 - val_loss: 5.4368 - val_accuracy: 0.0000e+00\n",
      "Epoch 6/40\n",
      "709/709 [==============================] - 1s 1ms/sample - loss: 5.1979 - accuracy: 0.0296 - val_loss: 5.4155 - val_accuracy: 0.0056\n",
      "Epoch 7/40\n",
      "709/709 [==============================] - 1s 1ms/sample - loss: 5.1455 - accuracy: 0.0437 - val_loss: 5.4021 - val_accuracy: 0.0056\n",
      "Epoch 8/40\n",
      "709/709 [==============================] - 1s 1ms/sample - loss: 5.0967 - accuracy: 0.0494 - val_loss: 5.3984 - val_accuracy: 0.0112\n",
      "Epoch 9/40\n",
      "709/709 [==============================] - 1s 1ms/sample - loss: 5.0619 - accuracy: 0.0465 - val_loss: 5.4038 - val_accuracy: 0.0056\n",
      "Epoch 10/40\n",
      "709/709 [==============================] - 1s 1ms/sample - loss: 5.0178 - accuracy: 0.0592 - val_loss: 5.3933 - val_accuracy: 0.0056\n",
      "Epoch 11/40\n",
      "709/709 [==============================] - 1s 1ms/sample - loss: 4.9713 - accuracy: 0.0508 - val_loss: 5.3972 - val_accuracy: 0.0056\n",
      "Epoch 12/40\n",
      "709/709 [==============================] - 1s 1ms/sample - loss: 4.9417 - accuracy: 0.0578 - val_loss: 5.3924 - val_accuracy: 0.0000e+00\n",
      "Epoch 13/40\n",
      "709/709 [==============================] - 1s 2ms/sample - loss: 4.8986 - accuracy: 0.0691 - val_loss: 5.3898 - val_accuracy: 0.0000e+00\n",
      "Epoch 14/40\n",
      "709/709 [==============================] - 1s 2ms/sample - loss: 4.8714 - accuracy: 0.0621 - val_loss: 5.4097 - val_accuracy: 0.0000e+00\n",
      "Epoch 15/40\n",
      "709/709 [==============================] - 1s 1ms/sample - loss: 4.8245 - accuracy: 0.0719 - val_loss: 5.3969 - val_accuracy: 0.0056\n",
      "Epoch 16/40\n",
      "709/709 [==============================] - 1s 1ms/sample - loss: 4.7939 - accuracy: 0.0804 - val_loss: 5.4058 - val_accuracy: 0.0056\n",
      "Epoch 17/40\n",
      "709/709 [==============================] - 1s 1ms/sample - loss: 4.7401 - accuracy: 0.0874 - val_loss: 5.4230 - val_accuracy: 0.0056\n",
      "Epoch 18/40\n",
      "709/709 [==============================] - 1s 1ms/sample - loss: 4.7128 - accuracy: 0.0917 - val_loss: 5.4149 - val_accuracy: 0.0000e+00\n",
      "Epoch 19/40\n",
      "709/709 [==============================] - 1s 2ms/sample - loss: 4.6568 - accuracy: 0.1114 - val_loss: 5.4186 - val_accuracy: 0.0056\n",
      "Epoch 20/40\n",
      "709/709 [==============================] - 1s 1ms/sample - loss: 4.6369 - accuracy: 0.1157 - val_loss: 5.4232 - val_accuracy: 0.0056\n",
      "Epoch 21/40\n",
      "709/709 [==============================] - 1s 1ms/sample - loss: 4.6163 - accuracy: 0.1185 - val_loss: 5.4152 - val_accuracy: 0.0056\n",
      "Epoch 22/40\n",
      "709/709 [==============================] - 1s 1ms/sample - loss: 4.5644 - accuracy: 0.1100 - val_loss: 5.4190 - val_accuracy: 0.0056\n",
      "Epoch 23/40\n",
      "709/709 [==============================] - 1s 2ms/sample - loss: 4.5125 - accuracy: 0.1241 - val_loss: 5.4337 - val_accuracy: 0.0000e+00\n",
      "Epoch 24/40\n",
      "709/709 [==============================] - 1s 1ms/sample - loss: 4.4892 - accuracy: 0.1269 - val_loss: 5.4292 - val_accuracy: 0.0000e+00\n",
      "Epoch 25/40\n",
      "709/709 [==============================] - 1s 1ms/sample - loss: 4.4308 - accuracy: 0.1551 - val_loss: 5.4235 - val_accuracy: 0.0000e+00\n",
      "Epoch 26/40\n",
      "709/709 [==============================] - 1s 1ms/sample - loss: 4.3987 - accuracy: 0.1523 - val_loss: 5.4276 - val_accuracy: 0.0112\n",
      "Epoch 27/40\n",
      "709/709 [==============================] - 1s 1ms/sample - loss: 4.3716 - accuracy: 0.1580 - val_loss: 5.4437 - val_accuracy: 0.0056\n",
      "Epoch 28/40\n",
      "709/709 [==============================] - 1s 1ms/sample - loss: 4.3127 - accuracy: 0.1678 - val_loss: 5.4277 - val_accuracy: 0.0112\n",
      "Epoch 29/40\n",
      "709/709 [==============================] - 1s 1ms/sample - loss: 4.2949 - accuracy: 0.1693 - val_loss: 5.4373 - val_accuracy: 0.0112\n",
      "Epoch 30/40\n",
      "709/709 [==============================] - 1s 1ms/sample - loss: 4.2572 - accuracy: 0.1805 - val_loss: 5.4361 - val_accuracy: 0.0056\n",
      "Epoch 31/40\n",
      "709/709 [==============================] - 1s 1ms/sample - loss: 4.1975 - accuracy: 0.2073 - val_loss: 5.4197 - val_accuracy: 0.0112\n",
      "Epoch 32/40\n",
      "709/709 [==============================] - 1s 1ms/sample - loss: 4.1740 - accuracy: 0.2045 - val_loss: 5.4468 - val_accuracy: 0.0112\n",
      "Epoch 33/40\n",
      "709/709 [==============================] - 1s 1ms/sample - loss: 4.1318 - accuracy: 0.2130 - val_loss: 5.4263 - val_accuracy: 0.0112\n",
      "Epoch 34/40\n",
      "709/709 [==============================] - 1s 1ms/sample - loss: 4.0924 - accuracy: 0.2214 - val_loss: 5.4494 - val_accuracy: 0.0281\n",
      "Epoch 35/40\n",
      "709/709 [==============================] - 1s 1ms/sample - loss: 4.0497 - accuracy: 0.2384 - val_loss: 5.4462 - val_accuracy: 0.0112\n",
      "Epoch 36/40\n",
      "709/709 [==============================] - 1s 1ms/sample - loss: 3.9970 - accuracy: 0.2553 - val_loss: 5.4600 - val_accuracy: 0.0169\n",
      "Epoch 37/40\n",
      "709/709 [==============================] - 1s 1ms/sample - loss: 3.9668 - accuracy: 0.2553 - val_loss: 5.4429 - val_accuracy: 0.0169\n",
      "Epoch 38/40\n",
      "709/709 [==============================] - 1s 1ms/sample - loss: 3.9330 - accuracy: 0.2638 - val_loss: 5.4690 - val_accuracy: 0.0112\n",
      "Epoch 39/40\n",
      "709/709 [==============================] - 1s 1ms/sample - loss: 3.8920 - accuracy: 0.2722 - val_loss: 5.4859 - val_accuracy: 0.0281\n",
      "Epoch 40/40\n",
      "709/709 [==============================] - 1s 1ms/sample - loss: 3.8457 - accuracy: 0.2906 - val_loss: 5.4754 - val_accuracy: 0.0169\n"
     ]
    },
    {
     "data": {
      "image/png": "[encoded data removed]",
      "text/plain": [
       "<Figure size 432x288 with 2 Axes>"
      ]
     },
     "metadata": {
      "needs_background": "light"
     },
     "output_type": "display_data"
    },
    {
     "name": "stdout",
     "output_type": "stream",
     "text": [
      "222/1 [====================================================================================================================================================================================================================================================================================================================================================================================================================================================================================================================================================================================================================================================================================================================================================================================================================================================================================================================================================================================================================================================================================================================================================================================================================================================================================================================================================================================================================================================================================================================================================================================================================================================================================================================================================================================================================================================================================================================================================================================================================================================================================================================================================================================================================================================================================================================================================================================================================================================================================================================================================================================================================================================================================================================================================================================================================================================================================================================================================================================================================================================================================================================================================================================================================================================================================================================================================================================================================================================================================================================================================================================================================================================================================================================================================================================================================================================================================================================================================================================================================================================================================================================================================================================================================================================================================================================================================================================================================================================================================================================================================================================================================================================================================================================================================================================================================================================================================================================================================================================================================================================================================================================================================================================================================================================================================================================================================================================================================================================================================================================================================================================================================================================================================================================================================================================================================================================================================================================================================================================================================================================================================================================================================================================================================================================================================================================================================================================================================================================================================================================================================================================================================================================================================================================================================================================================================================================================================================================================] - 0s 356us/sample - loss: 5.4654 - accuracy: 0.0045\n",
      "\n",
      "Test loss: 5.531941985224818, test accuracy: 0.45045046135783195\n"
     ]
    }
   ],
   "source": []
  },
  {
   "cell_type": "code",
   "execution_count": null,
   "metadata": {},
   "outputs": [],
   "source": []
  },
  {
   "cell_type": "code",
   "execution_count": 37,
   "metadata": {},
   "outputs": [],
   "source": [
    "# list(le.classes_)"
   ]
  },
  {
   "cell_type": "code",
   "execution_count": null,
   "metadata": {},
   "outputs": [],
   "source": []
  }
 ],
 "metadata": {
  "kernelspec": {
   "display_name": "Python 3",
   "language": "python",
   "name": "python3"
  },
  "language_info": {
   "codemirror_mode": {
    "name": "ipython",
    "version": 3
   },
   "file_extension": ".py",
   "mimetype": "text/x-python",
   "name": "python",
   "nbconvert_exporter": "python",
   "pygments_lexer": "ipython3",
   "version": "3.7.3"
  }
 },
 "nbformat": 4,
 "nbformat_minor": 4
}
